{
 "cells": [
  {
   "cell_type": "code",
   "execution_count": 2,
   "metadata": {},
   "outputs": [],
   "source": [
    "from sklearn.datasets import load_boston"
   ]
  },
  {
   "cell_type": "code",
   "execution_count": 3,
   "metadata": {},
   "outputs": [],
   "source": [
    "data=load_boston()"
   ]
  },
  {
   "cell_type": "code",
   "execution_count": 4,
   "metadata": {},
   "outputs": [
    {
     "data": {
      "text/plain": [
       "{'data': array([[6.3200e-03, 1.8000e+01, 2.3100e+00, ..., 1.5300e+01, 3.9690e+02,\n",
       "         4.9800e+00],\n",
       "        [2.7310e-02, 0.0000e+00, 7.0700e+00, ..., 1.7800e+01, 3.9690e+02,\n",
       "         9.1400e+00],\n",
       "        [2.7290e-02, 0.0000e+00, 7.0700e+00, ..., 1.7800e+01, 3.9283e+02,\n",
       "         4.0300e+00],\n",
       "        ...,\n",
       "        [6.0760e-02, 0.0000e+00, 1.1930e+01, ..., 2.1000e+01, 3.9690e+02,\n",
       "         5.6400e+00],\n",
       "        [1.0959e-01, 0.0000e+00, 1.1930e+01, ..., 2.1000e+01, 3.9345e+02,\n",
       "         6.4800e+00],\n",
       "        [4.7410e-02, 0.0000e+00, 1.1930e+01, ..., 2.1000e+01, 3.9690e+02,\n",
       "         7.8800e+00]]),\n",
       " 'target': array([24. , 21.6, 34.7, 33.4, 36.2, 28.7, 22.9, 27.1, 16.5, 18.9, 15. ,\n",
       "        18.9, 21.7, 20.4, 18.2, 19.9, 23.1, 17.5, 20.2, 18.2, 13.6, 19.6,\n",
       "        15.2, 14.5, 15.6, 13.9, 16.6, 14.8, 18.4, 21. , 12.7, 14.5, 13.2,\n",
       "        13.1, 13.5, 18.9, 20. , 21. , 24.7, 30.8, 34.9, 26.6, 25.3, 24.7,\n",
       "        21.2, 19.3, 20. , 16.6, 14.4, 19.4, 19.7, 20.5, 25. , 23.4, 18.9,\n",
       "        35.4, 24.7, 31.6, 23.3, 19.6, 18.7, 16. , 22.2, 25. , 33. , 23.5,\n",
       "        19.4, 22. , 17.4, 20.9, 24.2, 21.7, 22.8, 23.4, 24.1, 21.4, 20. ,\n",
       "        20.8, 21.2, 20.3, 28. , 23.9, 24.8, 22.9, 23.9, 26.6, 22.5, 22.2,\n",
       "        23.6, 28.7, 22.6, 22. , 22.9, 25. , 20.6, 28.4, 21.4, 38.7, 43.8,\n",
       "        33.2, 27.5, 26.5, 18.6, 19.3, 20.1, 19.5, 19.5, 20.4, 19.8, 19.4,\n",
       "        21.7, 22.8, 18.8, 18.7, 18.5, 18.3, 21.2, 19.2, 20.4, 19.3, 22. ,\n",
       "        20.3, 20.5, 17.3, 18.8, 21.4, 15.7, 16.2, 18. , 14.3, 19.2, 19.6,\n",
       "        23. , 18.4, 15.6, 18.1, 17.4, 17.1, 13.3, 17.8, 14. , 14.4, 13.4,\n",
       "        15.6, 11.8, 13.8, 15.6, 14.6, 17.8, 15.4, 21.5, 19.6, 15.3, 19.4,\n",
       "        17. , 15.6, 13.1, 41.3, 24.3, 23.3, 27. , 50. , 50. , 50. , 22.7,\n",
       "        25. , 50. , 23.8, 23.8, 22.3, 17.4, 19.1, 23.1, 23.6, 22.6, 29.4,\n",
       "        23.2, 24.6, 29.9, 37.2, 39.8, 36.2, 37.9, 32.5, 26.4, 29.6, 50. ,\n",
       "        32. , 29.8, 34.9, 37. , 30.5, 36.4, 31.1, 29.1, 50. , 33.3, 30.3,\n",
       "        34.6, 34.9, 32.9, 24.1, 42.3, 48.5, 50. , 22.6, 24.4, 22.5, 24.4,\n",
       "        20. , 21.7, 19.3, 22.4, 28.1, 23.7, 25. , 23.3, 28.7, 21.5, 23. ,\n",
       "        26.7, 21.7, 27.5, 30.1, 44.8, 50. , 37.6, 31.6, 46.7, 31.5, 24.3,\n",
       "        31.7, 41.7, 48.3, 29. , 24. , 25.1, 31.5, 23.7, 23.3, 22. , 20.1,\n",
       "        22.2, 23.7, 17.6, 18.5, 24.3, 20.5, 24.5, 26.2, 24.4, 24.8, 29.6,\n",
       "        42.8, 21.9, 20.9, 44. , 50. , 36. , 30.1, 33.8, 43.1, 48.8, 31. ,\n",
       "        36.5, 22.8, 30.7, 50. , 43.5, 20.7, 21.1, 25.2, 24.4, 35.2, 32.4,\n",
       "        32. , 33.2, 33.1, 29.1, 35.1, 45.4, 35.4, 46. , 50. , 32.2, 22. ,\n",
       "        20.1, 23.2, 22.3, 24.8, 28.5, 37.3, 27.9, 23.9, 21.7, 28.6, 27.1,\n",
       "        20.3, 22.5, 29. , 24.8, 22. , 26.4, 33.1, 36.1, 28.4, 33.4, 28.2,\n",
       "        22.8, 20.3, 16.1, 22.1, 19.4, 21.6, 23.8, 16.2, 17.8, 19.8, 23.1,\n",
       "        21. , 23.8, 23.1, 20.4, 18.5, 25. , 24.6, 23. , 22.2, 19.3, 22.6,\n",
       "        19.8, 17.1, 19.4, 22.2, 20.7, 21.1, 19.5, 18.5, 20.6, 19. , 18.7,\n",
       "        32.7, 16.5, 23.9, 31.2, 17.5, 17.2, 23.1, 24.5, 26.6, 22.9, 24.1,\n",
       "        18.6, 30.1, 18.2, 20.6, 17.8, 21.7, 22.7, 22.6, 25. , 19.9, 20.8,\n",
       "        16.8, 21.9, 27.5, 21.9, 23.1, 50. , 50. , 50. , 50. , 50. , 13.8,\n",
       "        13.8, 15. , 13.9, 13.3, 13.1, 10.2, 10.4, 10.9, 11.3, 12.3,  8.8,\n",
       "         7.2, 10.5,  7.4, 10.2, 11.5, 15.1, 23.2,  9.7, 13.8, 12.7, 13.1,\n",
       "        12.5,  8.5,  5. ,  6.3,  5.6,  7.2, 12.1,  8.3,  8.5,  5. , 11.9,\n",
       "        27.9, 17.2, 27.5, 15. , 17.2, 17.9, 16.3,  7. ,  7.2,  7.5, 10.4,\n",
       "         8.8,  8.4, 16.7, 14.2, 20.8, 13.4, 11.7,  8.3, 10.2, 10.9, 11. ,\n",
       "         9.5, 14.5, 14.1, 16.1, 14.3, 11.7, 13.4,  9.6,  8.7,  8.4, 12.8,\n",
       "        10.5, 17.1, 18.4, 15.4, 10.8, 11.8, 14.9, 12.6, 14.1, 13. , 13.4,\n",
       "        15.2, 16.1, 17.8, 14.9, 14.1, 12.7, 13.5, 14.9, 20. , 16.4, 17.7,\n",
       "        19.5, 20.2, 21.4, 19.9, 19. , 19.1, 19.1, 20.1, 19.9, 19.6, 23.2,\n",
       "        29.8, 13.8, 13.3, 16.7, 12. , 14.6, 21.4, 23. , 23.7, 25. , 21.8,\n",
       "        20.6, 21.2, 19.1, 20.6, 15.2,  7. ,  8.1, 13.6, 20.1, 21.8, 24.5,\n",
       "        23.1, 19.7, 18.3, 21.2, 17.5, 16.8, 22.4, 20.6, 23.9, 22. , 11.9]),\n",
       " 'feature_names': array(['CRIM', 'ZN', 'INDUS', 'CHAS', 'NOX', 'RM', 'AGE', 'DIS', 'RAD',\n",
       "        'TAX', 'PTRATIO', 'B', 'LSTAT'], dtype='<U7'),\n",
       " 'DESCR': \".. _boston_dataset:\\n\\nBoston house prices dataset\\n---------------------------\\n\\n**Data Set Characteristics:**  \\n\\n    :Number of Instances: 506 \\n\\n    :Number of Attributes: 13 numeric/categorical predictive. Median Value (attribute 14) is usually the target.\\n\\n    :Attribute Information (in order):\\n        - CRIM     per capita crime rate by town\\n        - ZN       proportion of residential land zoned for lots over 25,000 sq.ft.\\n        - INDUS    proportion of non-retail business acres per town\\n        - CHAS     Charles River dummy variable (= 1 if tract bounds river; 0 otherwise)\\n        - NOX      nitric oxides concentration (parts per 10 million)\\n        - RM       average number of rooms per dwelling\\n        - AGE      proportion of owner-occupied units built prior to 1940\\n        - DIS      weighted distances to five Boston employment centres\\n        - RAD      index of accessibility to radial highways\\n        - TAX      full-value property-tax rate per $10,000\\n        - PTRATIO  pupil-teacher ratio by town\\n        - B        1000(Bk - 0.63)^2 where Bk is the proportion of blacks by town\\n        - LSTAT    % lower status of the population\\n        - MEDV     Median value of owner-occupied homes in $1000's\\n\\n    :Missing Attribute Values: None\\n\\n    :Creator: Harrison, D. and Rubinfeld, D.L.\\n\\nThis is a copy of UCI ML housing dataset.\\nhttps://archive.ics.uci.edu/ml/machine-learning-databases/housing/\\n\\n\\nThis dataset was taken from the StatLib library which is maintained at Carnegie Mellon University.\\n\\nThe Boston house-price data of Harrison, D. and Rubinfeld, D.L. 'Hedonic\\nprices and the demand for clean air', J. Environ. Economics & Management,\\nvol.5, 81-102, 1978.   Used in Belsley, Kuh & Welsch, 'Regression diagnostics\\n...', Wiley, 1980.   N.B. Various transformations are used in the table on\\npages 244-261 of the latter.\\n\\nThe Boston house-price data has been used in many machine learning papers that address regression\\nproblems.   \\n     \\n.. topic:: References\\n\\n   - Belsley, Kuh & Welsch, 'Regression diagnostics: Identifying Influential Data and Sources of Collinearity', Wiley, 1980. 244-261.\\n   - Quinlan,R. (1993). Combining Instance-Based and Model-Based Learning. In Proceedings on the Tenth International Conference of Machine Learning, 236-243, University of Massachusetts, Amherst. Morgan Kaufmann.\\n\",\n",
       " 'filename': 'c:\\\\users\\\\ruchan\\\\appdata\\\\local\\\\programs\\\\python\\\\python37\\\\lib\\\\site-packages\\\\sklearn\\\\datasets\\\\data\\\\boston_house_prices.csv'}"
      ]
     },
     "execution_count": 4,
     "metadata": {},
     "output_type": "execute_result"
    }
   ],
   "source": [
    "data"
   ]
  },
  {
   "cell_type": "code",
   "execution_count": 5,
   "metadata": {},
   "outputs": [],
   "source": [
    "X,y=data[\"data\"],data[\"target\"]"
   ]
  },
  {
   "cell_type": "code",
   "execution_count": 6,
   "metadata": {},
   "outputs": [
    {
     "data": {
      "text/plain": [
       "array([[6.3200e-03, 1.8000e+01, 2.3100e+00, ..., 1.5300e+01, 3.9690e+02,\n",
       "        4.9800e+00],\n",
       "       [2.7310e-02, 0.0000e+00, 7.0700e+00, ..., 1.7800e+01, 3.9690e+02,\n",
       "        9.1400e+00],\n",
       "       [2.7290e-02, 0.0000e+00, 7.0700e+00, ..., 1.7800e+01, 3.9283e+02,\n",
       "        4.0300e+00],\n",
       "       ...,\n",
       "       [6.0760e-02, 0.0000e+00, 1.1930e+01, ..., 2.1000e+01, 3.9690e+02,\n",
       "        5.6400e+00],\n",
       "       [1.0959e-01, 0.0000e+00, 1.1930e+01, ..., 2.1000e+01, 3.9345e+02,\n",
       "        6.4800e+00],\n",
       "       [4.7410e-02, 0.0000e+00, 1.1930e+01, ..., 2.1000e+01, 3.9690e+02,\n",
       "        7.8800e+00]])"
      ]
     },
     "execution_count": 6,
     "metadata": {},
     "output_type": "execute_result"
    }
   ],
   "source": [
    "X"
   ]
  },
  {
   "cell_type": "code",
   "execution_count": 7,
   "metadata": {},
   "outputs": [
    {
     "data": {
      "text/plain": [
       "array([24. , 21.6, 34.7, 33.4, 36.2, 28.7, 22.9, 27.1, 16.5, 18.9, 15. ,\n",
       "       18.9, 21.7, 20.4, 18.2, 19.9, 23.1, 17.5, 20.2, 18.2, 13.6, 19.6,\n",
       "       15.2, 14.5, 15.6, 13.9, 16.6, 14.8, 18.4, 21. , 12.7, 14.5, 13.2,\n",
       "       13.1, 13.5, 18.9, 20. , 21. , 24.7, 30.8, 34.9, 26.6, 25.3, 24.7,\n",
       "       21.2, 19.3, 20. , 16.6, 14.4, 19.4, 19.7, 20.5, 25. , 23.4, 18.9,\n",
       "       35.4, 24.7, 31.6, 23.3, 19.6, 18.7, 16. , 22.2, 25. , 33. , 23.5,\n",
       "       19.4, 22. , 17.4, 20.9, 24.2, 21.7, 22.8, 23.4, 24.1, 21.4, 20. ,\n",
       "       20.8, 21.2, 20.3, 28. , 23.9, 24.8, 22.9, 23.9, 26.6, 22.5, 22.2,\n",
       "       23.6, 28.7, 22.6, 22. , 22.9, 25. , 20.6, 28.4, 21.4, 38.7, 43.8,\n",
       "       33.2, 27.5, 26.5, 18.6, 19.3, 20.1, 19.5, 19.5, 20.4, 19.8, 19.4,\n",
       "       21.7, 22.8, 18.8, 18.7, 18.5, 18.3, 21.2, 19.2, 20.4, 19.3, 22. ,\n",
       "       20.3, 20.5, 17.3, 18.8, 21.4, 15.7, 16.2, 18. , 14.3, 19.2, 19.6,\n",
       "       23. , 18.4, 15.6, 18.1, 17.4, 17.1, 13.3, 17.8, 14. , 14.4, 13.4,\n",
       "       15.6, 11.8, 13.8, 15.6, 14.6, 17.8, 15.4, 21.5, 19.6, 15.3, 19.4,\n",
       "       17. , 15.6, 13.1, 41.3, 24.3, 23.3, 27. , 50. , 50. , 50. , 22.7,\n",
       "       25. , 50. , 23.8, 23.8, 22.3, 17.4, 19.1, 23.1, 23.6, 22.6, 29.4,\n",
       "       23.2, 24.6, 29.9, 37.2, 39.8, 36.2, 37.9, 32.5, 26.4, 29.6, 50. ,\n",
       "       32. , 29.8, 34.9, 37. , 30.5, 36.4, 31.1, 29.1, 50. , 33.3, 30.3,\n",
       "       34.6, 34.9, 32.9, 24.1, 42.3, 48.5, 50. , 22.6, 24.4, 22.5, 24.4,\n",
       "       20. , 21.7, 19.3, 22.4, 28.1, 23.7, 25. , 23.3, 28.7, 21.5, 23. ,\n",
       "       26.7, 21.7, 27.5, 30.1, 44.8, 50. , 37.6, 31.6, 46.7, 31.5, 24.3,\n",
       "       31.7, 41.7, 48.3, 29. , 24. , 25.1, 31.5, 23.7, 23.3, 22. , 20.1,\n",
       "       22.2, 23.7, 17.6, 18.5, 24.3, 20.5, 24.5, 26.2, 24.4, 24.8, 29.6,\n",
       "       42.8, 21.9, 20.9, 44. , 50. , 36. , 30.1, 33.8, 43.1, 48.8, 31. ,\n",
       "       36.5, 22.8, 30.7, 50. , 43.5, 20.7, 21.1, 25.2, 24.4, 35.2, 32.4,\n",
       "       32. , 33.2, 33.1, 29.1, 35.1, 45.4, 35.4, 46. , 50. , 32.2, 22. ,\n",
       "       20.1, 23.2, 22.3, 24.8, 28.5, 37.3, 27.9, 23.9, 21.7, 28.6, 27.1,\n",
       "       20.3, 22.5, 29. , 24.8, 22. , 26.4, 33.1, 36.1, 28.4, 33.4, 28.2,\n",
       "       22.8, 20.3, 16.1, 22.1, 19.4, 21.6, 23.8, 16.2, 17.8, 19.8, 23.1,\n",
       "       21. , 23.8, 23.1, 20.4, 18.5, 25. , 24.6, 23. , 22.2, 19.3, 22.6,\n",
       "       19.8, 17.1, 19.4, 22.2, 20.7, 21.1, 19.5, 18.5, 20.6, 19. , 18.7,\n",
       "       32.7, 16.5, 23.9, 31.2, 17.5, 17.2, 23.1, 24.5, 26.6, 22.9, 24.1,\n",
       "       18.6, 30.1, 18.2, 20.6, 17.8, 21.7, 22.7, 22.6, 25. , 19.9, 20.8,\n",
       "       16.8, 21.9, 27.5, 21.9, 23.1, 50. , 50. , 50. , 50. , 50. , 13.8,\n",
       "       13.8, 15. , 13.9, 13.3, 13.1, 10.2, 10.4, 10.9, 11.3, 12.3,  8.8,\n",
       "        7.2, 10.5,  7.4, 10.2, 11.5, 15.1, 23.2,  9.7, 13.8, 12.7, 13.1,\n",
       "       12.5,  8.5,  5. ,  6.3,  5.6,  7.2, 12.1,  8.3,  8.5,  5. , 11.9,\n",
       "       27.9, 17.2, 27.5, 15. , 17.2, 17.9, 16.3,  7. ,  7.2,  7.5, 10.4,\n",
       "        8.8,  8.4, 16.7, 14.2, 20.8, 13.4, 11.7,  8.3, 10.2, 10.9, 11. ,\n",
       "        9.5, 14.5, 14.1, 16.1, 14.3, 11.7, 13.4,  9.6,  8.7,  8.4, 12.8,\n",
       "       10.5, 17.1, 18.4, 15.4, 10.8, 11.8, 14.9, 12.6, 14.1, 13. , 13.4,\n",
       "       15.2, 16.1, 17.8, 14.9, 14.1, 12.7, 13.5, 14.9, 20. , 16.4, 17.7,\n",
       "       19.5, 20.2, 21.4, 19.9, 19. , 19.1, 19.1, 20.1, 19.9, 19.6, 23.2,\n",
       "       29.8, 13.8, 13.3, 16.7, 12. , 14.6, 21.4, 23. , 23.7, 25. , 21.8,\n",
       "       20.6, 21.2, 19.1, 20.6, 15.2,  7. ,  8.1, 13.6, 20.1, 21.8, 24.5,\n",
       "       23.1, 19.7, 18.3, 21.2, 17.5, 16.8, 22.4, 20.6, 23.9, 22. , 11.9])"
      ]
     },
     "execution_count": 7,
     "metadata": {},
     "output_type": "execute_result"
    }
   ],
   "source": [
    "y"
   ]
  },
  {
   "cell_type": "code",
   "execution_count": 8,
   "metadata": {},
   "outputs": [
    {
     "data": {
      "text/plain": [
       "array([2.7310e-02, 0.0000e+00, 7.0700e+00, 0.0000e+00, 4.6900e-01,\n",
       "       6.4210e+00, 7.8900e+01, 4.9671e+00, 2.0000e+00, 2.4200e+02,\n",
       "       1.7800e+01, 3.9690e+02, 9.1400e+00])"
      ]
     },
     "execution_count": 8,
     "metadata": {},
     "output_type": "execute_result"
    }
   ],
   "source": [
    "X[1]"
   ]
  },
  {
   "cell_type": "code",
   "execution_count": 9,
   "metadata": {},
   "outputs": [
    {
     "data": {
      "text/plain": [
       "506"
      ]
     },
     "execution_count": 9,
     "metadata": {},
     "output_type": "execute_result"
    }
   ],
   "source": [
    "len(X[:,0])"
   ]
  },
  {
   "cell_type": "code",
   "execution_count": 12,
   "metadata": {},
   "outputs": [
    {
     "data": {
      "text/plain": [
       "506"
      ]
     },
     "execution_count": 12,
     "metadata": {},
     "output_type": "execute_result"
    }
   ],
   "source": [
    "len(y)"
   ]
  },
  {
   "cell_type": "code",
   "execution_count": 13,
   "metadata": {},
   "outputs": [],
   "source": [
    "%matplotlib inline"
   ]
  },
  {
   "cell_type": "code",
   "execution_count": 15,
   "metadata": {},
   "outputs": [],
   "source": [
    "import matplotlib.pyplot as plt"
   ]
  },
  {
   "cell_type": "code",
   "execution_count": 16,
   "metadata": {},
   "outputs": [
    {
     "data": {
      "text/plain": [
       "<matplotlib.collections.PathCollection at 0x28a8974ee08>"
      ]
     },
     "execution_count": 16,
     "metadata": {},
     "output_type": "execute_result"
    },
    {
     "data": {
      "image/png": "[encoded data removed]",
      "text/plain": [
       "<Figure size 432x288 with 1 Axes>"
      ]
     },
     "metadata": {},
     "output_type": "display_data"
    }
   ],
   "source": [
    "plt.scatter(X[:,5],y)"
   ]
  },
  {
   "cell_type": "code",
   "execution_count": 17,
   "metadata": {},
   "outputs": [],
   "source": [
    "import random"
   ]
  },
  {
   "cell_type": "code",
   "execution_count": 18,
   "metadata": {},
   "outputs": [],
   "source": [
    "def loss(y,y_hat):\n",
    "    return sum((y_i-y_hat_i)**2 for y_i,y_hat_i in zip(list(y),list(y_hat))) /len(list(y))"
   ]
  },
  {
   "cell_type": "code",
   "execution_count": 21,
   "metadata": {},
   "outputs": [],
   "source": [
    "k=random.random()*200-100"
   ]
  },
  {
   "cell_type": "code",
   "execution_count": 22,
   "metadata": {},
   "outputs": [
    {
     "data": {
      "text/plain": [
       "-98.54541916402881"
      ]
     },
     "execution_count": 22,
     "metadata": {},
     "output_type": "execute_result"
    }
   ],
   "source": [
    "k"
   ]
  },
  {
   "cell_type": "code",
   "execution_count": 23,
   "metadata": {},
   "outputs": [],
   "source": [
    "b=random.random()*200-100"
   ]
  },
  {
   "cell_type": "code",
   "execution_count": 24,
   "metadata": {},
   "outputs": [
    {
     "data": {
      "text/plain": [
       "-43.84372413487705"
      ]
     },
     "execution_count": 24,
     "metadata": {},
     "output_type": "execute_result"
    }
   ],
   "source": [
    "b"
   ]
  },
  {
   "cell_type": "code",
   "execution_count": 25,
   "metadata": {},
   "outputs": [],
   "source": [
    "def price(rm,k,b):\n",
    "    return k*rm+b"
   ]
  },
  {
   "cell_type": "code",
   "execution_count": 28,
   "metadata": {},
   "outputs": [
    {
     "data": {
      "text/plain": [
       "506"
      ]
     },
     "execution_count": 28,
     "metadata": {},
     "output_type": "execute_result"
    }
   ],
   "source": [
    "X_rm = X[:, 5]\n",
    "len(X_rm )"
   ]
  },
  {
   "cell_type": "markdown",
   "metadata": {},
   "source": [
    "### first method :random generation :get best k and best b"
   ]
  },
  {
   "cell_type": "code",
   "execution_count": 32,
   "metadata": {},
   "outputs": [
    {
     "name": "stdout",
     "output_type": "stream",
     "text": [
      "when time is  0,get best_k is 76.90383659811644,and the best b is 52.12166764293079,and the loss is  265376.3593951207\n",
      "when time is  1,get best_k is 69.53680193924112,and the best b is 98.31921787141843,and the loss is  264806.71974456176\n",
      "when time is  2,get best_k is -34.3044979809563,and the best b is -23.680468929940417,and the loss is  69513.50186941176\n",
      "when time is  7,get best_k is -24.35190973105898,and the best b is 39.204401286456715,and the loss is  19192.12993866578\n",
      "when time is  14,get best_k is 8.526212449400461,and the best b is 30.03801770477517,and the loss is  3775.6713377661604\n",
      "when time is  31,get best_k is -3.274684829195124,and the best b is 37.56858171250434,and the loss is  149.81469051882667\n",
      "when time is  115,get best_k is 18.960688417660904,and the best b is -94.63069440974125,and the loss is  95.47636357192252\n",
      "when time is  336,get best_k is 11.684362603131461,and the best b is -50.86933280875547,and the loss is  46.88674861922911\n",
      "when time is  2517,get best_k is 7.478446859052539,and the best b is -25.261473667698468,and the loss is  45.531420028052615\n"
     ]
    }
   ],
   "source": [
    "trying_times=5000\n",
    "X_rm = X[:, 5]\n",
    "\n",
    "min_loss=float(\"inf\")\n",
    "best_k,best_b=None,None\n",
    "\n",
    "for i in range(trying_times):\n",
    "    k=random.random()*200-100\n",
    "    b=random.random()*200-100\n",
    "    price_by_random_k_and_b=[price(r,k,b) for r in X_rm]\n",
    "\n",
    "    current_loss=loss(y,price_by_random_k_and_b)\n",
    "    if current_loss<min_loss:\n",
    "        min_loss=current_loss\n",
    "        best_k,best_b=k,b\n",
    "        print(\"when time is  {},get best_k is {},and the best b is {},and the loss is  {}\".format(i,best_k,best_b,min_loss))\n",
    "    \n",
    "    "
   ]
  },
  {
   "cell_type": "code",
   "execution_count": 33,
   "metadata": {},
   "outputs": [
    {
     "data": {
      "text/plain": [
       "<matplotlib.collections.PathCollection at 0x28a89867248>"
      ]
     },
     "execution_count": 33,
     "metadata": {},
     "output_type": "execute_result"
    },
    {
     "data": {
      "image/png": "[encoded data removed]",
      "text/plain": [
       "<Figure size 432x288 with 1 Axes>"
      ]
     },
     "metadata": {},
     "output_type": "display_data"
    }
   ],
   "source": [
    "k=7.478446859052539\n",
    "b=-25.261473667698468\n",
    "price_by_random_k_and_b=[price(r,k,b) for r in X_rm]\n",
    "\n",
    "plt.scatter(X_rm,price_by_random_k_and_b)\n",
    "plt.scatter(X[:,5],y)"
   ]
  },
  {
   "cell_type": "markdown",
   "metadata": {},
   "source": [
    "## second method :direction adjusting"
   ]
  },
  {
   "cell_type": "code",
   "execution_count": 34,
   "metadata": {},
   "outputs": [],
   "source": [
    "learning_rate = 1e-2  #（1*10的负二次方）"
   ]
  },
  {
   "cell_type": "code",
   "execution_count": 35,
   "metadata": {},
   "outputs": [
    {
     "data": {
      "text/plain": [
       "0.01"
      ]
     },
     "execution_count": 35,
     "metadata": {},
     "output_type": "execute_result"
    }
   ],
   "source": [
    "learning_rate"
   ]
  },
  {
   "cell_type": "code",
   "execution_count": 54,
   "metadata": {},
   "outputs": [
    {
     "name": "stdout",
     "output_type": "stream",
     "text": [
      "when time is   9, get best_k  72.0592447534085, best_b is  -59.69003181372824 and the loss is   139372.80677353998\n",
      "when time is   19, get best_k  71.05924475340856, best_b is  -60.690031813728254 and the loss is   133964.32805367984\n",
      "when time is   29, get best_k  70.05924475340862, best_b is  -61.69003181372827 and the loss is   128662.96652056638\n",
      "when time is   39, get best_k  69.05924475340868, best_b is  -62.69003181372828 and the loss is   123468.72217420004\n",
      "when time is   49, get best_k  68.05924475340873, best_b is  -63.6900318137283 and the loss is   118381.59501458087\n",
      "when time is   59, get best_k  67.05924475340879, best_b is  -64.69003181372827 and the loss is   113401.58504170872\n",
      "when time is   69, get best_k  66.05924475340885, best_b is  -65.69003181372821 and the loss is   108528.69225558359\n",
      "when time is   79, get best_k  65.0592447534089, best_b is  -66.69003181372815 and the loss is   103762.91665620534\n",
      "when time is   89, get best_k  64.05924475340896, best_b is  -67.6900318137281 and the loss is   99104.25824357446\n",
      "when time is   99, get best_k  63.05924475340895, best_b is  -68.69003181372804 and the loss is   94552.71701769\n",
      "when time is   109, get best_k  62.05924475340893, best_b is  -69.69003181372798 and the loss is   90108.2929785527\n",
      "when time is   119, get best_k  61.05924475340892, best_b is  -70.69003181372793 and the loss is   85770.98612616239\n",
      "when time is   129, get best_k  60.059244753408905, best_b is  -71.69003181372787 and the loss is   81540.79646051915\n",
      "when time is   139, get best_k  59.05924475340889, best_b is  -72.69003181372781 and the loss is   77417.72398162294\n",
      "when time is   149, get best_k  58.059244753408876, best_b is  -73.69003181372776 and the loss is   73401.7686894738\n",
      "when time is   159, get best_k  57.05924475340886, best_b is  -74.6900318137277 and the loss is   69492.93058407163\n",
      "when time is   169, get best_k  56.05924475340885, best_b is  -75.69003181372764 and the loss is   65691.20966541658\n",
      "when time is   179, get best_k  55.059244753408834, best_b is  -76.69003181372759 and the loss is   61996.60593350856\n",
      "when time is   189, get best_k  54.05924475340882, best_b is  -77.69003181372753 and the loss is   58409.11938834747\n",
      "when time is   199, get best_k  53.059244753408805, best_b is  -78.69003181372747 and the loss is   54928.75002993343\n",
      "when time is   209, get best_k  52.05924475340879, best_b is  -79.69003181372742 and the loss is   51555.49785826658\n",
      "when time is   219, get best_k  51.05924475340878, best_b is  -80.69003181372736 and the loss is   48289.36287334665\n",
      "when time is   229, get best_k  50.05924475340876, best_b is  -81.6900318137273 and the loss is   45130.34507517386\n",
      "when time is   239, get best_k  49.05924475340875, best_b is  -82.69003181372724 and the loss is   42078.44446374792\n",
      "when time is   249, get best_k  48.059244753408734, best_b is  -83.69003181372719 and the loss is   39133.66103906912\n",
      "when time is   259, get best_k  47.05924475340872, best_b is  -84.69003181372713 and the loss is   36295.99480113738\n",
      "when time is   269, get best_k  46.059244753408706, best_b is  -85.69003181372707 and the loss is   33565.4457499527\n",
      "when time is   279, get best_k  45.05924475340869, best_b is  -86.69003181372702 and the loss is   30942.013885514945\n",
      "when time is   289, get best_k  44.05924475340868, best_b is  -87.69003181372696 and the loss is   28425.699207824302\n",
      "when time is   299, get best_k  43.05924475340866, best_b is  -88.6900318137269 and the loss is   26016.501716880688\n",
      "when time is   309, get best_k  42.05924475340865, best_b is  -89.69003181372685 and the loss is   23714.42141268408\n",
      "when time is   319, get best_k  41.059244753408635, best_b is  -90.69003181372679 and the loss is   21519.458295234537\n",
      "when time is   329, get best_k  40.05924475340862, best_b is  -91.69003181372673 and the loss is   19431.61236453206\n",
      "when time is   339, get best_k  39.059244753408606, best_b is  -92.69003181372668 and the loss is   17450.883620576587\n",
      "when time is   349, get best_k  38.05924475340859, best_b is  -93.69003181372662 and the loss is   15577.27206336814\n",
      "when time is   359, get best_k  37.05924475340858, best_b is  -94.69003181372656 and the loss is   13810.777692906728\n",
      "when time is   369, get best_k  36.059244753408564, best_b is  -95.6900318137265 and the loss is   12151.400509192377\n",
      "when time is   379, get best_k  35.05924475340855, best_b is  -96.69003181372645 and the loss is   10599.140512225042\n",
      "when time is   389, get best_k  34.059244753408535, best_b is  -97.69003181372639 and the loss is   9153.99770200476\n",
      "when time is   399, get best_k  33.05924475340852, best_b is  -98.69003181372634 and the loss is   7815.972078531504\n",
      "when time is   409, get best_k  32.05924475340851, best_b is  -99.69003181372628 and the loss is   6585.063641805288\n",
      "when time is   419, get best_k  31.059244753408493, best_b is  -100.69003181372622 and the loss is   5461.272391826105\n",
      "when time is   429, get best_k  30.05924475340848, best_b is  -101.69003181372616 and the loss is   4444.598328593961\n",
      "when time is   439, get best_k  29.059244753408464, best_b is  -102.69003181372611 and the loss is   3535.041452108859\n",
      "when time is   449, get best_k  28.05924475340845, best_b is  -103.69003181372605 and the loss is   2732.6017623707917\n",
      "when time is   459, get best_k  27.059244753408436, best_b is  -104.690031813726 and the loss is   2037.2792593797546\n",
      "when time is   469, get best_k  26.05924475340842, best_b is  -105.69003181372594 and the loss is   1449.0739431357583\n",
      "when time is   479, get best_k  25.059244753408407, best_b is  -106.69003181372588 and the loss is   967.985813638798\n",
      "when time is   489, get best_k  24.059244753408393, best_b is  -107.69003181372582 and the loss is   594.0148708888739\n",
      "when time is   499, get best_k  23.05924475340838, best_b is  -108.69003181372577 and the loss is   327.16111488598665\n",
      "when time is   509, get best_k  22.059244753408365, best_b is  -109.69003181372571 and the loss is   167.42454563013635\n",
      "when time is   519, get best_k  21.05924475340835, best_b is  -110.69003181372565 and the loss is   114.80516312132195\n"
     ]
    }
   ],
   "source": [
    "trying_times=5000\n",
    "min_loss=float(\"inf\")\n",
    "\n",
    "best_k=random.random()*200-100\n",
    "best_b=random.random()*200-100\n",
    "\n",
    "direction=[\n",
    "    (+1.0,-1.0),\n",
    "    (+1.0,+1.0),\n",
    "    (-1.0,-1.0),\n",
    "    (-1.0,+1.0)\n",
    "]\n",
    "next_direction=random.choice(direction)\n",
    "\n",
    "scalar=0.1\n",
    "update_time=0\n",
    "\n",
    "for i in range(trying_times):\n",
    "    k_direction,b_direction=next_direction\n",
    "    current_k,current_b=best_k+k_direction*scalar, best_b+b_direction*scalar\n",
    "    \n",
    "    price_by_k_an_b=[price(r,current_k,current_b) for r in X_rm]\n",
    "    \n",
    "    current_loss=loss(y,price_by_k_an_b)\n",
    "#     print(current_k,current_b,current_loss,min_loss)\n",
    "#     print(\"hello\")\n",
    "    if current_loss <  min_loss:\n",
    "        min_loss=current_loss\n",
    "        best_k,best_b=current_k,current_b\n",
    "#         print(\"here\")\n",
    "        next_direction=next_direction\n",
    "        update_time+=1\n",
    "        if update_time % 10==0:\n",
    "            print(\"when time is   {}, get best_k  {}, best_b is  {} and the loss is   {}\".format(i,best_k,best_b,min_loss))\n",
    "    else:\n",
    "            next_direction = random.choice(list(set(direction) - {next_direction}))\n",
    "\n",
    "\n",
    "\n",
    "\n"
   ]
  },
  {
   "cell_type": "markdown",
   "metadata": {},
   "source": [
    "###梯度下降"
   ]
  },
  {
   "cell_type": "code",
   "execution_count": 55,
   "metadata": {},
   "outputs": [],
   "source": [
    "#导数\n",
    "def partial_k(x,y,y_hat):\n",
    "    n=len(y)\n",
    "    gradient=0\n",
    "    \n",
    "    for x_i,y_i,y_hat_i in zip(list(x),list(y),list(y_hat)):\n",
    "        gradient+= (y_i-y_hat_i)*x_i\n",
    "    return -2/n *gradient\n",
    "\n",
    "def partial_b(x,y,y_hat):\n",
    "    n=len(y)\n",
    "    gradient=0\n",
    "    \n",
    "    for x_i,y_i,y_hat_i in zip(list(x),list(y),list(y_hat)):\n",
    "        gradient+= (y_i-y_hat_i)\n",
    "    return -2/n *gradient"
   ]
  },
  {
   "cell_type": "code",
   "execution_count": 56,
   "metadata": {},
   "outputs": [
    {
     "name": "stdout",
     "output_type": "stream",
     "text": [
      "When time is : 0, get best_k: 21.05924475340835 best_b: -110.69003181372565, and the loss is: 14304.117232303173\n",
      "When time is : 50, get best_k: 21.05924475340835 best_b: -110.69003181372565, and the loss is: 6314.227031099107\n",
      "When time is : 100, get best_k: 21.05924475340835 best_b: -110.69003181372565, and the loss is: 2805.494683413692\n",
      "When time is : 150, get best_k: 21.05924475340835 best_b: -110.69003181372565, and the loss is: 1264.6460383084755\n",
      "When time is : 200, get best_k: 21.05924475340835 best_b: -110.69003181372565, and the loss is: 587.9861575038004\n",
      "When time is : 250, get best_k: 21.05924475340835 best_b: -110.69003181372565, and the loss is: 290.83153907073074\n",
      "When time is : 300, get best_k: 21.05924475340835 best_b: -110.69003181372565, and the loss is: 160.33523690625896\n",
      "When time is : 350, get best_k: 21.05924475340835 best_b: -110.69003181372565, and the loss is: 103.02631113910522\n",
      "When time is : 400, get best_k: 21.05924475340835 best_b: -110.69003181372565, and the loss is: 77.85734830904997\n",
      "When time is : 450, get best_k: 21.05924475340835 best_b: -110.69003181372565, and the loss is: 66.80253040142027\n",
      "When time is : 500, get best_k: 21.05924475340835 best_b: -110.69003181372565, and the loss is: 61.945886890677464\n",
      "When time is : 550, get best_k: 21.05924475340835 best_b: -110.69003181372565, and the loss is: 59.81114894334361\n",
      "When time is : 600, get best_k: 21.05924475340835 best_b: -110.69003181372565, and the loss is: 58.87172610988082\n",
      "When time is : 650, get best_k: 21.05924475340835 best_b: -110.69003181372565, and the loss is: 58.45722190702569\n",
      "When time is : 700, get best_k: 21.05924475340835 best_b: -110.69003181372565, and the loss is: 58.273234227779\n",
      "When time is : 750, get best_k: 21.05924475340835 best_b: -110.69003181372565, and the loss is: 58.19047748844225\n",
      "When time is : 800, get best_k: 21.05924475340835 best_b: -110.69003181372565, and the loss is: 58.15217640862965\n",
      "When time is : 850, get best_k: 21.05924475340835 best_b: -110.69003181372565, and the loss is: 58.13339833630954\n",
      "When time is : 900, get best_k: 21.05924475340835 best_b: -110.69003181372565, and the loss is: 58.1231941905312\n",
      "When time is : 950, get best_k: 21.05924475340835 best_b: -110.69003181372565, and the loss is: 58.116755723255416\n",
      "When time is : 1000, get best_k: 21.05924475340835 best_b: -110.69003181372565, and the loss is: 58.11197141023553\n",
      "When time is : 1050, get best_k: 21.05924475340835 best_b: -110.69003181372565, and the loss is: 58.10791398338753\n",
      "When time is : 1100, get best_k: 21.05924475340835 best_b: -110.69003181372565, and the loss is: 58.10417623628889\n",
      "When time is : 1150, get best_k: 21.05924475340835 best_b: -110.69003181372565, and the loss is: 58.10057934565009\n",
      "When time is : 1200, get best_k: 21.05924475340835 best_b: -110.69003181372565, and the loss is: 58.09704478177947\n",
      "When time is : 1250, get best_k: 21.05924475340835 best_b: -110.69003181372565, and the loss is: 58.09353805854405\n",
      "When time is : 1300, get best_k: 21.05924475340835 best_b: -110.69003181372565, and the loss is: 58.09004403137417\n",
      "When time is : 1350, get best_k: 21.05924475340835 best_b: -110.69003181372565, and the loss is: 58.08655604947603\n",
      "When time is : 1400, get best_k: 21.05924475340835 best_b: -110.69003181372565, and the loss is: 58.08307119206539\n",
      "When time is : 1450, get best_k: 21.05924475340835 best_b: -110.69003181372565, and the loss is: 58.079588176377676\n",
      "When time is : 1500, get best_k: 21.05924475340835 best_b: -110.69003181372565, and the loss is: 58.07610643897898\n",
      "When time is : 1550, get best_k: 21.05924475340835 best_b: -110.69003181372565, and the loss is: 58.07262573232617\n",
      "When time is : 1600, get best_k: 21.05924475340835 best_b: -110.69003181372565, and the loss is: 58.06914594759918\n",
      "When time is : 1650, get best_k: 21.05924475340835 best_b: -110.69003181372565, and the loss is: 58.06566703689688\n",
      "When time is : 1700, get best_k: 21.05924475340835 best_b: -110.69003181372565, and the loss is: 58.06218897907106\n",
      "When time is : 1750, get best_k: 21.05924475340835 best_b: -110.69003181372565, and the loss is: 58.058711764721636\n",
      "When time is : 1800, get best_k: 21.05924475340835 best_b: -110.69003181372565, and the loss is: 58.05523538960802\n",
      "When time is : 1850, get best_k: 21.05924475340835 best_b: -110.69003181372565, and the loss is: 58.05175985175514\n",
      "When time is : 1900, get best_k: 21.05924475340835 best_b: -110.69003181372565, and the loss is: 58.04828515018294\n",
      "When time is : 1950, get best_k: 21.05924475340835 best_b: -110.69003181372565, and the loss is: 58.04481128434836\n"
     ]
    }
   ],
   "source": [
    "trying_times = 2000\n",
    "\n",
    "X, y = data['data'], data['target']\n",
    "\n",
    "min_loss = float('inf') \n",
    "\n",
    "current_k = random.random() * 200 - 100\n",
    "current_b = random.random() * 200 - 100\n",
    "\n",
    "learning_rate = 1e-04\n",
    "update_time = 0\n",
    "\n",
    "for i in range(trying_times):\n",
    "    price_by_k_and_b = [price(r, current_k, current_b) for r in X_rm]\n",
    "    current_loss = loss(y,price_by_k_and_b)\n",
    "    \n",
    "    if current_loss < min_loss: # performance became better\n",
    "        \n",
    "        min_loss = current_loss\n",
    "        if i % 50 == 0: \n",
    "            print('When time is : {}, get best_k: {} best_b: {}, and the loss is: {}'.format(i, best_k, best_b, min_loss))\n",
    "    k_gradient=partial_k(X_rm,y,price_by_k_and_b)\n",
    "    b_gradient=partial_b(X_rm,y,price_by_k_and_b)\n",
    "    current_k=current_k-k_gradient*learning_rate\n",
    "    current_b=current_b-b_gradient*learning_rate\n",
    "    \n",
    "    "
   ]
  },
  {
   "cell_type": "code",
   "execution_count": 61,
   "metadata": {},
   "outputs": [
    {
     "name": "stdout",
     "output_type": "stream",
     "text": [
      "506 506\n"
     ]
    },
    {
     "data": {
      "text/plain": [
       "<matplotlib.collections.PathCollection at 0x28a8aab5e48>"
      ]
     },
     "execution_count": 61,
     "metadata": {},
     "output_type": "execute_result"
    },
    {
     "data": {
      "image/png": "[encoded data removed]",
      "text/plain": [
       "<Figure size 432x288 with 1 Axes>"
      ]
     },
     "metadata": {},
     "output_type": "display_data"
    }
   ],
   "source": [
    "X_rm = X[:, 5]\n",
    "price_by_best_k_and_b = [price(r, best_k, best_b) for r in X_rm]\n",
    "\n",
    "plt.scatter(X[:, 5], y)\n",
    "\n",
    "print(len(X_rm), len(price_by_random_k_and_b))\n",
    "plt.scatter(X_rm, price_by_random_k_and_b,color=\"green\")\n",
    "plt.scatter(X_rm,price_by_best_k_and_b,color=\"orange\")\n"
   ]
  },
  {
   "cell_type": "code",
   "execution_count": 64,
   "metadata": {},
   "outputs": [],
   "source": [
    "k=random.random()*200-100"
   ]
  },
  {
   "cell_type": "code",
   "execution_count": 65,
   "metadata": {},
   "outputs": [
    {
     "data": {
      "text/plain": [
       "-59.71751310269706"
      ]
     },
     "execution_count": 65,
     "metadata": {},
     "output_type": "execute_result"
    }
   ],
   "source": [
    "k"
   ]
  },
  {
   "cell_type": "code",
   "execution_count": null,
   "metadata": {},
   "outputs": [],
   "source": []
  }
 ],
 "metadata": {
  "kernelspec": {
   "display_name": "Python 3",
   "language": "python",
   "name": "python3"
  },
  "language_info": {
   "codemirror_mode": {
    "name": "ipython",
    "version": 3
   },
   "file_extension": ".py",
   "mimetype": "text/x-python",
   "name": "python",
   "nbconvert_exporter": "python",
   "pygments_lexer": "ipython3",
   "version": "3.7.7"
  }
 },
 "nbformat": 4,
 "nbformat_minor": 2
}
