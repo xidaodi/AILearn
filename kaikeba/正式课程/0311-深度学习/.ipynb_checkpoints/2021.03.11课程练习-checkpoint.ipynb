{
 "cells": [
  {
   "cell_type": "code",
   "execution_count": 1,
   "metadata": {},
   "outputs": [],
   "source": [
    "import numpy as np"
   ]
  },
  {
   "cell_type": "code",
   "execution_count": 7,
   "metadata": {},
   "outputs": [],
   "source": [
    "label_a=np.random.normal(6,2,size=(50,2))  #6表示平均值，2表示方差"
   ]
  },
  {
   "cell_type": "code",
   "execution_count": 8,
   "metadata": {},
   "outputs": [],
   "source": [
    "label_b=np.random.normal(-6,2,size=(50,2))"
   ]
  },
  {
   "cell_type": "code",
   "execution_count": 11,
   "metadata": {},
   "outputs": [],
   "source": [
    "import matplotlib.pyplot as plt"
   ]
  },
  {
   "cell_type": "code",
   "execution_count": 12,
   "metadata": {},
   "outputs": [
    {
     "data": {
      "text/plain": [
       "array([[ 7.60780483,  4.91615612],\n",
       "       [ 8.46231093,  4.91092546],\n",
       "       [ 6.63895533,  4.03656624],\n",
       "       [ 4.92716281, 12.10619535],\n",
       "       [ 8.04693195,  4.71220725],\n",
       "       [ 6.82292987,  6.63315698],\n",
       "       [ 6.62069488,  5.37473872],\n",
       "       [ 4.58107585,  7.99114254],\n",
       "       [ 3.22480708,  5.55077618],\n",
       "       [ 5.74681079,  3.7124624 ],\n",
       "       [10.38891138,  8.87596604],\n",
       "       [ 7.96628397,  6.60822223],\n",
       "       [ 6.68726045,  1.73993284],\n",
       "       [ 8.67152784, 11.87446755],\n",
       "       [ 2.94118766,  3.28252965],\n",
       "       [ 7.09046552,  4.26508682],\n",
       "       [ 5.93715894,  7.19583326],\n",
       "       [ 6.51650219,  5.9695624 ],\n",
       "       [ 9.95762484,  4.6184276 ],\n",
       "       [ 4.71334705,  7.67120178],\n",
       "       [ 5.82156835,  4.58521357],\n",
       "       [ 6.1074194 ,  5.41426982],\n",
       "       [ 3.10397283,  4.99346428],\n",
       "       [ 4.86558091,  6.50599694],\n",
       "       [ 6.35991968,  6.80811536],\n",
       "       [ 7.26145729,  6.87761061],\n",
       "       [ 4.81648129,  5.69730781],\n",
       "       [ 3.66200989,  6.40874157],\n",
       "       [ 5.23714595,  7.04933952],\n",
       "       [ 4.68156715,  9.31509888],\n",
       "       [ 4.00790871,  6.45965395],\n",
       "       [ 8.25285132,  7.17253856],\n",
       "       [ 5.5629458 ,  9.18920569],\n",
       "       [ 5.56630094,  3.19397657],\n",
       "       [ 7.05901724,  6.34103398],\n",
       "       [ 8.20042743, 10.09310905],\n",
       "       [ 7.60706478,  6.35448449],\n",
       "       [ 5.56999522,  6.70741873],\n",
       "       [ 4.51867202,  3.36038299],\n",
       "       [ 4.71110307,  7.52520126],\n",
       "       [ 4.55745408,  6.21998469],\n",
       "       [ 5.32360299,  7.51047088],\n",
       "       [ 3.77938593,  6.9901737 ],\n",
       "       [ 2.10937685, 10.08002794],\n",
       "       [ 6.29747377,  6.88148058],\n",
       "       [ 4.7874264 ,  7.49848261],\n",
       "       [ 6.16516324,  1.5906501 ],\n",
       "       [10.0512305 ,  5.51985992],\n",
       "       [ 5.10295993,  4.59482178],\n",
       "       [ 4.53064226,  2.80422009]])"
      ]
     },
     "execution_count": 12,
     "metadata": {},
     "output_type": "execute_result"
    }
   ],
   "source": [
    "label_a"
   ]
  },
  {
   "cell_type": "code",
   "execution_count": 16,
   "metadata": {},
   "outputs": [
    {
     "name": "stdout",
     "output_type": "stream",
     "text": [
      "(7.607804827548604, 8.462310931794121, 6.6389553257747895, 4.927162810056593, 8.046931949057083, 6.822929866149099, 6.620694880664552, 4.58107584514136, 3.2248070843278107, 5.746810794533866, 10.388911377696163, 7.966283968008154, 6.6872604452151645, 8.671527844443187, 2.9411876645285866, 7.090465519171582, 5.937158938289488, 6.516502187983404, 9.957624844569269, 4.713347050348483, 5.821568353073851, 6.10741939857133, 3.1039728263640614, 4.865580909757177, 6.359919676660566, 7.261457290389963, 4.816481292534865, 3.6620098901515754, 5.237145947255645, 4.681567145846053, 4.0079087105712405, 8.252851324566418, 5.5629457959927455, 5.566300937154961, 7.059017235834416, 8.200427428354784, 7.607064775020091, 5.56999522194931, 4.518672018030816, 4.71110306761444, 4.557454082383334, 5.323602989911393, 3.7793859321431076, 2.1093768533658834, 6.297473773765848, 4.787426404819666, 6.165163240543591, 10.051230500405069, 5.102959933354011, 4.530642262621907)\n",
      "(4.916156121618631, 4.910925457683969, 4.0365662402263425, 12.106195352242286, 4.712207254045836, 6.633156984312167, 5.374738716406471, 7.99114253675925, 5.550776179124744, 3.7124624020453596, 8.875966041064205, 6.60822223325885, 1.7399328414376969, 11.874467554199098, 3.282529650097285, 4.265086824680646, 7.195833259565657, 5.969562401910188, 4.618427597922407, 7.671201779295589, 4.585213571040972, 5.414269820140098, 4.993464282694485, 6.505996944262905, 6.808115356497648, 6.8776106137022515, 5.697307811007211, 6.408741565350829, 7.0493395227593485, 9.31509888142456, 6.45965395124114, 7.1725385564577975, 9.189205692722012, 3.193976568625076, 6.341033981479883, 10.093109050762415, 6.354484493164376, 6.707418729995256, 3.3603829862607864, 7.525201262581217, 6.2199846904434315, 7.510470880406272, 6.9901737037465645, 10.080027944780657, 6.881480583184189, 7.49848261412852, 1.5906501014990901, 5.51985991677093, 4.594821781290088, 2.8042200895212486)\n"
     ]
    }
   ],
   "source": [
    "for i  in zip(*label_a):\n",
    "    print( i)"
   ]
  },
  {
   "cell_type": "code",
   "execution_count": 18,
   "metadata": {},
   "outputs": [
    {
     "data": {
      "text/plain": [
       "<matplotlib.collections.PathCollection at 0x286f567bac8>"
      ]
     },
     "execution_count": 18,
     "metadata": {},
     "output_type": "execute_result"
    },
    {
     "data": {
      "image/png": "[encoded data removed]",
      "text/plain": [
       "<Figure size 432x288 with 1 Axes>"
      ]
     },
     "metadata": {},
     "output_type": "display_data"
    }
   ],
   "source": [
    "plt.scatter(*zip(*label_a))\n",
    "plt.scatter(*zip(*label_b))"
   ]
  },
  {
   "cell_type": "code",
   "execution_count": null,
   "metadata": {},
   "outputs": [],
   "source": []
  }
 ],
 "metadata": {
  "kernelspec": {
   "display_name": "Python 3",
   "language": "python",
   "name": "python3"
  },
  "language_info": {
   "codemirror_mode": {
    "name": "ipython",
    "version": 3
   },
   "file_extension": ".py",
   "mimetype": "text/x-python",
   "name": "python",
   "nbconvert_exporter": "python",
   "pygments_lexer": "ipython3",
   "version": "3.7.7"
  }
 },
 "nbformat": 4,
 "nbformat_minor": 2
}
