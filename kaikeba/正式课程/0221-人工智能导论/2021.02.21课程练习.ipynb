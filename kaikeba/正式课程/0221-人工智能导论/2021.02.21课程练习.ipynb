{
 "cells": [
  {
   "cell_type": "code",
   "execution_count": 147,
   "metadata": {},
   "outputs": [
    {
     "name": "stdout",
     "output_type": "stream",
     "text": [
      "\n",
      "复合句子 = 句子+连词+句子\n",
      "连词= 但是| 然后\n",
      "句子 = 主语+谓语+宾语\n",
      "主语 = 你|我|他\n",
      "谓语 = 吃|玩\n",
      "宾语 = 桃子|皮球\n",
      "\n"
     ]
    }
   ],
   "source": [
    "rules=\"\"\"\n",
    "复合句子 = 句子+连词+句子\n",
    "连词= 但是| 然后\n",
    "句子 = 主语+谓语+宾语\n",
    "主语 = 你|我|他\n",
    "谓语 = 吃|玩\n",
    "宾语 = 桃子|皮球\n",
    "\"\"\"\n",
    "print(rules)"
   ]
  },
  {
   "cell_type": "code",
   "execution_count": 148,
   "metadata": {},
   "outputs": [
    {
     "name": "stdout",
     "output_type": "stream",
     "text": [
      "['', '复合句子 = 句子+连词+句子', '连词= 但是| 然后', '句子 = 主语+谓语+宾语', '主语 = 你|我|他', '谓语 = 吃|玩', '宾语 = 桃子|皮球', '']\n"
     ]
    }
   ],
   "source": [
    "n=rules.split(\"\\n\")\n",
    "print(n)\n"
   ]
  },
  {
   "cell_type": "code",
   "execution_count": 149,
   "metadata": {},
   "outputs": [
    {
     "name": "stdout",
     "output_type": "stream",
     "text": [
      "\n"
     ]
    }
   ],
   "source": [
    "print(n[0].strip())"
   ]
  },
  {
   "cell_type": "code",
   "execution_count": 150,
   "metadata": {},
   "outputs": [
    {
     "name": "stdout",
     "output_type": "stream",
     "text": [
      "{'复合句子': ['句子+连词+句子'], '连词': ['但是', '然后'], '句子': ['主语+谓语+宾语'], '主语': ['你', '我', '他'], '谓语': ['吃', '玩'], '宾语': ['桃子', '皮球']}\n"
     ]
    }
   ],
   "source": [
    "grammer={}\n",
    "for r in rules.split(\"\\n\"):\n",
    "    if r.strip()== \"\" :\n",
    "        continue\n",
    "        \n",
    "    target,expand=r.split(\"=\")\n",
    "    \n",
    "    grammer[target.strip()]=[e.strip() for e in expand.split(\"|\") ]\n",
    "\n",
    "print(grammer)"
   ]
  },
  {
   "cell_type": "code",
   "execution_count": 151,
   "metadata": {},
   "outputs": [
    {
     "data": {
      "text/plain": [
       "['主语+谓语+宾语']"
      ]
     },
     "execution_count": 151,
     "metadata": {},
     "output_type": "execute_result"
    }
   ],
   "source": [
    "import random\n",
    "random.choice(grammer[\"句子\"]).split()"
   ]
  },
  {
   "cell_type": "code",
   "execution_count": 152,
   "metadata": {},
   "outputs": [
    {
     "data": {
      "text/plain": [
       "['我']"
      ]
     },
     "execution_count": 152,
     "metadata": {},
     "output_type": "execute_result"
    }
   ],
   "source": [
    "random.choice(grammer[\"主语\"]).split()"
   ]
  },
  {
   "cell_type": "code",
   "execution_count": 153,
   "metadata": {},
   "outputs": [],
   "source": [
    "def generate_by_grammer(grammer, target='复合句子'):\n",
    "    if target not in grammer: return target\n",
    "\n",
    "    return ''.join([generate_by_grammer(grammer, t) for t in random.choice(grammer[target]).split(\"+\")])"
   ]
  },
  {
   "cell_type": "code",
   "execution_count": 154,
   "metadata": {},
   "outputs": [
    {
     "name": "stdout",
     "output_type": "stream",
     "text": [
      "你吃皮球但是他吃桃子\n",
      "我玩皮球但是他吃皮球\n",
      "我吃桃子然后他玩桃子\n",
      "我玩皮球但是你吃皮球\n",
      "我玩皮球但是你吃桃子\n",
      "他吃桃子然后我吃皮球\n",
      "你玩皮球但是他吃皮球\n",
      "他吃皮球但是你玩桃子\n",
      "他玩桃子但是他吃桃子\n",
      "我玩皮球然后他吃皮球\n"
     ]
    }
   ],
   "source": [
    "for i in range(10):\n",
    "    print(generate_by_grammer(grammer))"
   ]
  },
  {
   "cell_type": "code",
   "execution_count": null,
   "metadata": {},
   "outputs": [],
   "source": []
  },
  {
   "cell_type": "code",
   "execution_count": null,
   "metadata": {},
   "outputs": [],
   "source": []
  }
 ],
 "metadata": {
  "kernelspec": {
   "display_name": "Python 3",
   "language": "python",
   "name": "python3"
  },
  "language_info": {
   "codemirror_mode": {
    "name": "ipython",
    "version": 3
   },
   "file_extension": ".py",
   "mimetype": "text/x-python",
   "name": "python",
   "nbconvert_exporter": "python",
   "pygments_lexer": "ipython3",
   "version": "3.7.7"
  }
 },
 "nbformat": 4,
 "nbformat_minor": 2
}
