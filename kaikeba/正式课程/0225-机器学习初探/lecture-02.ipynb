{
 "cells": [
  {
   "cell_type": "markdown",
   "metadata": {},
   "source": [
    "## Lecture-02 From Dynamic Programming to Machine learning"
   ]
  },
  {
   "cell_type": "markdown",
   "metadata": {},
   "source": [
    "## 动态规划"
   ]
  },
  {
   "cell_type": "markdown",
   "metadata": {},
   "source": [
    "## ==> 怎么这么简单！你是不是讲错了！！\n",
    "## ==> 不是，我没有讲错，动态规划本来就是很简单的内容"
   ]
  },
  {
   "cell_type": "code",
   "execution_count": 7,
   "metadata": {},
   "outputs": [],
   "source": [
    "origianl_price = [1, 5, 8, 9, 10, 17, 17, 20, 24, 30, 33] # 长度为1到11的价钱"
   ]
  },
  {
   "cell_type": "code",
   "execution_count": 8,
   "metadata": {},
   "outputs": [
    {
     "data": {
      "text/plain": [
       "11"
      ]
     },
     "execution_count": 8,
     "metadata": {},
     "output_type": "execute_result"
    }
   ],
   "source": [
    "len(origianl_price)"
   ]
  },
  {
   "cell_type": "code",
   "execution_count": 41,
   "metadata": {},
   "outputs": [],
   "source": [
    "from collections import defaultdict"
   ]
  },
  {
   "cell_type": "code",
   "execution_count": 48,
   "metadata": {},
   "outputs": [],
   "source": [
    "price = defaultdict(int)"
   ]
  },
  {
   "cell_type": "code",
   "execution_count": 49,
   "metadata": {},
   "outputs": [],
   "source": [
    "for i, p in enumerate(origianl_price): price[i+1] = p"
   ]
  },
  {
   "cell_type": "code",
   "execution_count": 50,
   "metadata": {},
   "outputs": [],
   "source": [
    "some_numbers = [(1, 2), (2, 1), (-1, 4)]"
   ]
  },
  {
   "cell_type": "code",
   "execution_count": 51,
   "metadata": {},
   "outputs": [
    {
     "data": {
      "text/plain": [
       "[(2, 1), (1, 2), (-1, 4)]"
      ]
     },
     "execution_count": 51,
     "metadata": {},
     "output_type": "execute_result"
    }
   ],
   "source": [
    "sorted(some_numbers, key=lambda x: x[1])"
   ]
  },
  {
   "cell_type": "code",
   "execution_count": 62,
   "metadata": {},
   "outputs": [],
   "source": [
    "## decorator "
   ]
  },
  {
   "cell_type": "code",
   "execution_count": 68,
   "metadata": {},
   "outputs": [],
   "source": [
    "from datetime import datetime"
   ]
  },
  {
   "cell_type": "code",
   "execution_count": 63,
   "metadata": {},
   "outputs": [],
   "source": [
    "import time"
   ]
  },
  {
   "cell_type": "code",
   "execution_count": 94,
   "metadata": {},
   "outputs": [],
   "source": [
    "#@get_func_time\n",
    "def func_1(n):\n",
    "    time.sleep(0.1)\n",
    "    return n"
   ]
  },
  {
   "cell_type": "code",
   "execution_count": 95,
   "metadata": {},
   "outputs": [
    {
     "data": {
      "text/plain": [
       "9"
      ]
     },
     "execution_count": 95,
     "metadata": {},
     "output_type": "execute_result"
    }
   ],
   "source": [
    "func_1(9)"
   ]
  },
  {
   "cell_type": "code",
   "execution_count": 83,
   "metadata": {},
   "outputs": [],
   "source": [
    "def func_2(n):\n",
    "    sum_ = 0\n",
    "    for i in range(n ** n):\n",
    "        sum_ += 1\n",
    "    return n"
   ]
  },
  {
   "cell_type": "markdown",
   "metadata": {},
   "source": [
    "## Python 是一个可以面向函数编程的语言"
   ]
  },
  {
   "cell_type": "code",
   "execution_count": 84,
   "metadata": {},
   "outputs": [],
   "source": [
    "def get_func_time(func):\n",
    "    def _wrap(n):\n",
    "        begin = datetime.now()\n",
    "        result = func(n)\n",
    "        print('used time = {}'.format(datetime.now() - begin))\n",
    "        \n",
    "        return result\n",
    "    return _wrap"
   ]
  },
  {
   "cell_type": "code",
   "execution_count": 85,
   "metadata": {},
   "outputs": [],
   "source": [
    "func_1_with_time = get_func_time(func_1)\n",
    "\"\"\"\n",
    "@another_func\n",
    "def some_func():\n",
    "    pass\n",
    "    \n",
    "=> some_func = another_func(some_func)\n",
    "\"\"\""
   ]
  },
  {
   "cell_type": "code",
   "execution_count": 103,
   "metadata": {},
   "outputs": [],
   "source": [
    "def memo(func):\n",
    "    cache = {}\n",
    "    def _wrap(n):\n",
    "        if n in cache: result = cache[n]\n",
    "        else:\n",
    "            result = func(n)\n",
    "            cache[n] = result\n",
    "        return result\n",
    "    return _wrap"
   ]
  },
  {
   "cell_type": "code",
   "execution_count": 87,
   "metadata": {},
   "outputs": [],
   "source": [
    "func_2_with_time = get_func_time(func_2)"
   ]
  },
  {
   "cell_type": "code",
   "execution_count": 86,
   "metadata": {},
   "outputs": [
    {
     "name": "stdout",
     "output_type": "stream",
     "text": [
      "used time = 0:00:00.100731\n"
     ]
    },
    {
     "data": {
      "text/plain": [
       "9"
      ]
     },
     "execution_count": 86,
     "metadata": {},
     "output_type": "execute_result"
    }
   ],
   "source": [
    "func_1_with_time(9)"
   ]
  },
  {
   "cell_type": "code",
   "execution_count": 90,
   "metadata": {},
   "outputs": [
    {
     "name": "stdout",
     "output_type": "stream",
     "text": [
      "used time = 0:00:00\n"
     ]
    },
    {
     "data": {
      "text/plain": [
       "5"
      ]
     },
     "execution_count": 90,
     "metadata": {},
     "output_type": "execute_result"
    }
   ],
   "source": [
    "func_2_with_time(5)"
   ]
  },
  {
   "cell_type": "code",
   "execution_count": 101,
   "metadata": {},
   "outputs": [
    {
     "name": "stdout",
     "output_type": "stream",
     "text": [
      "The Zen of Python, by Tim Peters\n",
      "\n",
      "Beautiful is better than ugly.\n",
      "Explicit is better than implicit.\n",
      "Simple is better than complex.\n",
      "Complex is better than complicated.\n",
      "Flat is better than nested.\n",
      "Sparse is better than dense.\n",
      "Readability counts.\n",
      "Special cases aren't special enough to break the rules.\n",
      "Although practicality beats purity.\n",
      "Errors should never pass silently.\n",
      "Unless explicitly silenced.\n",
      "In the face of ambiguity, refuse the temptation to guess.\n",
      "There should be one-- and preferably only one --obvious way to do it.\n",
      "Although that way may not be obvious at first unless you're Dutch.\n",
      "Now is better than never.\n",
      "Although never is often better than *right* now.\n",
      "If the implementation is hard to explain, it's a bad idea.\n",
      "If the implementation is easy to explain, it may be a good idea.\n",
      "Namespaces are one honking great idea -- let's do more of those!\n"
     ]
    }
   ],
   "source": [
    "import this"
   ]
  },
  {
   "cell_type": "code",
   "execution_count": 104,
   "metadata": {},
   "outputs": [],
   "source": [
    "solution = {}\n",
    "\n",
    "@memo\n",
    "def r(n):  # the revenve of length n\n",
    "#     candidates = []\n",
    "\n",
    "#     for i in range(1, n):\n",
    "#         candidates.append( (r(i) + r(n - i), i) )\n",
    "    \n",
    "#     candidates.append( (price[n], 0) )\n",
    "    \n",
    "#     max_price, split_point = max(candidates, key=lambda x: x[0])\n",
    "    \n",
    "    max_price, split_point  = max( [(price[n], 0)] + [ (r(i) +r(n-i), i) for i in range(1, n)],  key=lambda x: x[0])\n",
    "    \n",
    "    global solution\n",
    "    solution[n] = (split_point, n - split_point)\n",
    "    \n",
    "    return max_price"
   ]
  },
  {
   "cell_type": "code",
   "execution_count": 105,
   "metadata": {},
   "outputs": [
    {
     "name": "stdout",
     "output_type": "stream",
     "text": [
      "Wall time: 0 ns\n"
     ]
    },
    {
     "data": {
      "text/plain": [
       "35"
      ]
     },
     "execution_count": 105,
     "metadata": {},
     "output_type": "execute_result"
    }
   ],
   "source": [
    "%%time\n",
    "r(12)"
   ]
  },
  {
   "cell_type": "code",
   "execution_count": 106,
   "metadata": {},
   "outputs": [
    {
     "name": "stdout",
     "output_type": "stream",
     "text": [
      "Wall time: 0 ns\n"
     ]
    },
    {
     "data": {
      "text/plain": [
       "35"
      ]
     },
     "execution_count": 106,
     "metadata": {},
     "output_type": "execute_result"
    }
   ],
   "source": [
    "%%time\n",
    "r(12)"
   ]
  },
  {
   "cell_type": "code",
   "execution_count": 107,
   "metadata": {},
   "outputs": [
    {
     "name": "stdout",
     "output_type": "stream",
     "text": [
      "Wall time: 0 ns\n"
     ]
    },
    {
     "data": {
      "text/plain": [
       "43"
      ]
     },
     "execution_count": 107,
     "metadata": {},
     "output_type": "execute_result"
    }
   ],
   "source": [
    "%%time\n",
    "r(15)"
   ]
  },
  {
   "cell_type": "code",
   "execution_count": 108,
   "metadata": {},
   "outputs": [
    {
     "name": "stdout",
     "output_type": "stream",
     "text": [
      "Wall time: 6.76 ms\n"
     ]
    },
    {
     "data": {
      "text/plain": [
       "465"
      ]
     },
     "execution_count": 108,
     "metadata": {},
     "output_type": "execute_result"
    }
   ],
   "source": [
    "%%time\n",
    "r(155)"
   ]
  },
  {
   "cell_type": "code",
   "execution_count": 113,
   "metadata": {},
   "outputs": [],
   "source": [
    "def not_cut(n): return n == 0"
   ]
  },
  {
   "cell_type": "code",
   "execution_count": 114,
   "metadata": {},
   "outputs": [],
   "source": [
    "def parse_solution(target_length, revenue_solution):\n",
    "    left, right = revenue_solution[target_length]\n",
    "    \n",
    "    if not_cut(left): return [right]\n",
    "    \n",
    "    return parse_solution(left, revenue_solution) + parse_solution(right, revenue_solution)"
   ]
  },
  {
   "cell_type": "markdown",
   "metadata": {},
   "source": [
    "## Dynamic Programming"
   ]
  },
  {
   "cell_type": "code",
   "execution_count": 123,
   "metadata": {},
   "outputs": [
    {
     "data": {
      "text/plain": [
       "110"
      ]
     },
     "execution_count": 123,
     "metadata": {},
     "output_type": "execute_result"
    }
   ],
   "source": [
    "r(37)"
   ]
  },
  {
   "cell_type": "code",
   "execution_count": 122,
   "metadata": {
    "scrolled": false
   },
   "outputs": [
    {
     "data": {
      "text/plain": [
       "[6, 10, 10, 11]"
      ]
     },
     "execution_count": 122,
     "metadata": {},
     "output_type": "execute_result"
    }
   ],
   "source": [
    "parse_solution(37, solution)"
   ]
  },
  {
   "cell_type": "markdown",
   "metadata": {},
   "source": [
    "## 总结动态规划"
   ]
  },
  {
   "cell_type": "markdown",
   "metadata": {},
   "source": [
    "## 解决具备一定的限制条件的最优问题"
   ]
  },
  {
   "cell_type": "markdown",
   "metadata": {},
   "source": [
    "### 1. 这个问题可以被分割成若干子问题\n",
    "### 2. 子问题之间存在overlapping重合\n",
    "### 3. 对重合的子问题进行cache（缓存）\n",
    "### 4. 依据cache数据加速解决问题\n",
    "### 5. 还要构建parse solution函数解析最终的结果"
   ]
  },
  {
   "cell_type": "markdown",
   "metadata": {},
   "source": [
    "1. Edit Distance 编辑距离\n",
    "2. 基因测序里边的相似基因判断\n",
    "3. 图形学里边的覆盖问题\n",
    "4. 路径规划问题"
   ]
  },
  {
   "cell_type": "code",
   "execution_count": 124,
   "metadata": {},
   "outputs": [],
   "source": [
    "### 梯度下降"
   ]
  },
  {
   "cell_type": "code",
   "execution_count": 125,
   "metadata": {},
   "outputs": [],
   "source": [
    "import numpy as np"
   ]
  },
  {
   "cell_type": "code",
   "execution_count": 138,
   "metadata": {},
   "outputs": [],
   "source": [
    "def func(x):\n",
    "    return 10 * x** 2 + 37*x + 9"
   ]
  },
  {
   "cell_type": "code",
   "execution_count": 139,
   "metadata": {},
   "outputs": [],
   "source": [
    "def gradient(x):\n",
    "    return 20 * x + 37"
   ]
  },
  {
   "cell_type": "code",
   "execution_count": 140,
   "metadata": {},
   "outputs": [],
   "source": [
    "import matplotlib.pyplot as plt"
   ]
  },
  {
   "cell_type": "code",
   "execution_count": 141,
   "metadata": {},
   "outputs": [
    {
     "data": {
      "text/plain": [
       "[<matplotlib.lines.Line2D at 0x2005cf86208>]"
      ]
     },
     "execution_count": 141,
     "metadata": {},
     "output_type": "execute_result"
    },
    {
     "data": {
      "image/png": "[encoded data removed]",
      "text/plain": [
       "<Figure size 432x288 with 1 Axes>"
      ]
     },
     "metadata": {
      "needs_background": "light"
     },
     "output_type": "display_data"
    }
   ],
   "source": [
    "x = np.linspace(-10, 10)\n",
    "plt.plot(x, func(x))"
   ]
  },
  {
   "cell_type": "code",
   "execution_count": 142,
   "metadata": {},
   "outputs": [],
   "source": [
    "import random"
   ]
  },
  {
   "cell_type": "code",
   "execution_count": 145,
   "metadata": {},
   "outputs": [],
   "source": [
    "steps = []\n",
    "\n",
    "x_optimal = random.choice(x)"
   ]
  },
  {
   "cell_type": "code",
   "execution_count": 146,
   "metadata": {},
   "outputs": [
    {
     "data": {
      "text/plain": [
       "5.510204081632654"
      ]
     },
     "execution_count": 146,
     "metadata": {},
     "output_type": "execute_result"
    }
   ],
   "source": [
    "x_optimal"
   ]
  },
  {
   "cell_type": "markdown",
   "metadata": {},
   "source": [
    "$$ x = x + (-1) * \\frac{\\partial{y}}{\\partial{x}} \\alpha $$"
   ]
  },
  {
   "cell_type": "code",
   "execution_count": 148,
   "metadata": {},
   "outputs": [],
   "source": [
    "alpha = 1e-4\n",
    "\n",
    "for i in range(200):\n",
    "    x_optimal = x_optimal + (-1) * gradient(x_optimal) * alpha\n",
    "    steps.append(x_optimal)"
   ]
  },
  {
   "cell_type": "code",
   "execution_count": 149,
   "metadata": {},
   "outputs": [
    {
     "name": "stdout",
     "output_type": "stream",
     "text": [
      "5.363000000000001 495.0486900000002\n",
      "5.218740000000001 474.44585187600023\n",
      "5.077365200000001 454.6588861417106\n",
      "4.938817896000001 435.6554842504987\n",
      "4.8030415380800004 417.404617074179\n",
      "4.6699807073184 399.8764842380414\n",
      "4.539581093172032 383.042465462215\n",
      "4.411789471308591 366.87507382991123\n",
      "4.2865536818824195 351.34791090624674\n",
      "4.163822608244771 336.4356236343594\n",
      "4.043546156079875 322.11386293843873\n",
      "3.925675232958278 308.3592439660766\n",
      "3.8101617282991125 295.14930790502\n",
      "3.6969584937331303 282.4624853119812\n",
      "3.586019323858468 270.27806089362673\n",
      "3.4772989373812986 258.57613968223916\n",
      "3.3707529586336724 247.33761455082242\n",
      "3.266337899460999 236.54413501460988\n",
      "3.164011141471779 226.17807726803133\n",
      "3.0637309186423436 216.2225154082173\n",
      "2.965456300269497 206.6611937980519\n",
      "2.869147174264107 197.47850052364905\n",
      "2.7747642307788247 188.65944190291253\n",
      "2.6822689461632483 180.1896180035572\n",
      "2.591623567239983 172.05519913061636\n",
      "2.5027910958951836 164.24290324504392\n",
      "2.4157352739772797 156.73997427654018\n",
      "2.330420568497734 149.53416129518916\n",
      "2.246812157127779 142.61369850789964\n",
      "2.1648759139852234 135.96728604698683\n",
      "2.084578395705519 129.58407151952616\n",
      "2.0058868277914086 123.45363228735292\n",
      "1.9287690912355804 117.56595844877374\n",
      "1.8531937094108688 111.91143649420229\n",
      "1.7791298352226514 106.48083360903189\n",
      "1.7065472385181983 101.26528259811423\n",
      "1.6354162937478343 96.25626740722889\n",
      "1.5657079678728776 91.44560921790263\n",
      "1.49739380851542 86.82545309287367\n",
      "1.4304459323451115 82.38825515039588\n",
      "1.3648370136982093 78.1267702464402\n",
      "1.300540273424245 74.03404014468117\n",
      "1.2375294679557602 70.10338215495179\n",
      "1.175778878596645 66.32837822161571\n",
      "1.1152633010247122 62.70286444403972\n",
      "1.055958035004218 59.220921012055754\n",
      "0.9978388743041335 55.87686253997835\n",
      "0.9408820968180509 52.66522878339521\n",
      "0.8850644548816899 49.580775723572756\n",
      "0.8303631657840561 46.618467004919275\n",
      "0.776755902468375 43.77346571152447\n",
      "0.7242207844190075 41.0411264693481\n",
      "0.6727363687306274 38.416987861161914\n",
      "0.6222816413560148 35.8967651418599\n",
      "0.5728360085288945 33.47634324224225\n",
      "0.5243792883583166 31.15177004984946\n",
      "0.47689170259115027 28.919249955875422\n",
      "0.4303538685393273 26.775137657622757\n",
      "0.3847467911685407 24.71593220638089\n",
      "0.3400518553451699 22.73827129100821\n",
      "0.2962508182382665 20.838925747884282\n",
      "0.2533258018735012 19.014794288268067\n",
      "0.21125928583603115 17.26289843445265\n",
      "0.17003410011931053 15.580377656448327\n",
      "0.1296334181169243 13.964484701252973\n",
      "0.09004074975458581 12.412581107083355\n",
      "0.0512399347594941 10.922132895242854\n",
      "0.013215136064304217 9.490706432591237\n",
      "-0.02404916665698187 8.115964457860624\n",
      "-0.06056818332384223 6.7956622653293435\n",
      "-0.0963568196573654 5.5276440396223006\n",
      "-0.13142968326421808 4.309839335653257\n",
      "-0.16580108959893372 3.1402596979613886\n",
      "-0.19948506780695505 2.0169954139221176\n",
      "-0.23249536645081595 0.938212395530801\n",
      "-0.26484545912179963 -0.09785081533221707\n",
      "-0.29654854993936364 -1.0928859230450616\n",
      "-0.32761757894057636 -2.048517640492477\n",
      "-0.3580652273617648 -2.9663063419289752\n",
      "-0.3879039228145295 -3.8477506107885873\n",
      "-0.4171458443582389 -4.694289686601358\n",
      "-0.44580292747107414 -5.5073058150119465\n",
      "-0.47388686892165266 -6.2881265047374715\n",
      "-0.5014091315432196 -7.0380266951498704\n",
      "-0.5283809489123552 -7.758230838021934\n",
      "-0.5548133299341081 -8.449914896836265\n",
      "-0.5807170633354259 -9.114208266921551\n",
      "-0.6061027220687174 -9.752195619551454\n",
      "-0.6309806676273431 -10.364918673017218\n",
      "-0.6553610542747962 -10.953377893565737\n",
      "-0.6792538331893002 -11.51853412898053\n",
      "-0.7026687565255142 -12.061310177472905\n",
      "-0.7256153813950039 -12.582592294444972\n",
      "-0.7481030737671038 -13.083231639584955\n",
      "-0.7701410122917618 -13.564045666657389\n",
      "-0.7917381920459265 -14.025819458257757\n",
      "-0.812903428205008 -14.46930700771075\n",
      "-0.8336453596409079 -14.895232450205405\n",
      "-0.8539724524480897 -15.304291245177271\n",
      "-0.8738930033991279 -15.697151311868254\n",
      "-0.8934151433311454 -16.074454119918265\n",
      "-0.9125468404645225 -16.436815736769503\n",
      "-0.9312959036552321 -16.784827833593432\n",
      "-0.9496699855821275 -17.11905865138313\n",
      "-0.9676765858704849 -17.44005392878836\n",
      "-0.9853230541530752 -17.748337793208343\n",
      "-1.0026165930700137 -18.04441361659729\n",
      "-1.0195642612086135 -18.328764837380042\n",
      "-1.0361729759844414 -18.60185574981979\n",
      "-1.0524495164647525 -18.864132262126926\n",
      "-1.0684005261354574 -19.1160226245467\n",
      "-1.0840325156127484 -19.35793812861465\n",
      "-1.0993518653004934 -19.590273778721517\n",
      "-1.1143648279944836 -19.813408937084144\n",
      "-1.1290775314345938 -20.027707943175606\n",
      "-1.143495980805902 -20.233520708625854\n",
      "-1.157626061189784 -20.43118328856427\n",
      "-1.1714735399659884 -20.62101843033713\n",
      "-1.1850440691666686 -20.80333610049578\n",
      "-1.1983431877833353 -20.978433990916145\n",
      "-1.2113763240276685 -21.146598004875862\n",
      "-1.224148797547115 -21.308102723882776\n",
      "-1.2366658215961728 -21.463211856017026\n",
      "-1.2489325051642493 -21.61217866651875\n",
      "-1.2609538550609642 -21.755246391324604\n",
      "-1.2727347779597449 -21.892648634228152\n",
      "-1.28428008240055 -22.024609748312713\n",
      "-1.295594480752539 -22.15134520227953\n",
      "-1.3066825911374882 -22.27306193226926\n",
      "-1.3175489393147384 -22.389958679751402\n",
      "-1.3281979605284435 -22.502226316033244\n",
      "-1.3386340013178746 -22.61004815391832\n",
      "-1.348861321291517 -22.71360024702316\n",
      "-1.3588840948656866 -22.81305167724104\n",
      "-1.3687064129683728 -22.9085648308223\n",
      "-1.3783322847090054 -23.000295663521726\n",
      "-1.3877656390148252 -23.088393955246268\n",
      "-1.3970103262345286 -23.173003554618518\n",
      "-1.406070119709838 -23.254262613855623\n",
      "-1.4149487173156412 -23.332303814346943\n",
      "-1.4236497429693284 -23.40725458329881\n",
      "-1.4321767481099419 -23.47923730180017\n",
      "-1.440533213147743 -23.54836950464889\n",
      "-1.4487225488847881 -23.61476407226479\n",
      "-1.4567480979070924 -23.678529415003098\n",
      "-1.4646131359489505 -23.739769650168974\n",
      "-1.4723208732299715 -23.79858477202228\n",
      "-1.479874455765372 -23.855070815050205\n",
      "-1.4872769666500645 -23.909320010774216\n",
      "-1.4945314273170631 -23.96142093834756\n",
      "-1.5016407987707219 -24.011458669188997\n",
      "-1.5086079827953074 -24.05951490588911\n",
      "-1.5154358231394012 -24.1056681156159\n",
      "-1.522127106676613 -24.149993658237513\n",
      "-1.5286845645430809 -24.19256390937131\n",
      "-1.5351108732522192 -24.233448378560198\n",
      "-1.541408655787175 -24.27271382276922\n",
      "-1.5475804826714314 -24.310424355387553\n",
      "-1.5536288730180028 -24.346641550914214\n",
      "-1.5595562955576427 -24.381424545498007\n",
      "-1.5653651696464899 -24.414830133496288\n",
      "-1.5710578662535601 -24.446912860209835\n",
      "-1.576636708928489 -24.47772511094552\n",
      "-1.5821039747499193 -24.507317196552087\n",
      "-1.5874618952549209 -24.53573743556862\n",
      "-1.5927126573498225 -24.563032233120104\n",
      "-1.597858404202826 -24.589246156688546\n",
      "-1.6029012361187696 -24.61442200888368\n",
      "-1.607843211396394 -24.638600897331884\n",
      "-1.6126863471684663 -24.661822301797542\n",
      "-1.617432620225097 -24.68412413864636\n",
      "-1.6220839678205952 -24.70554282275596\n",
      "-1.6266422884641834 -24.726113326974826\n",
      "-1.6311094426948998 -24.74586923922662\n",
      "-1.6354872538410017 -24.764842817353255\n",
      "-1.6397775087641817 -24.783065041786067\n",
      "-1.6439819585888982 -24.800565666131334\n",
      "-1.6481023194171203 -24.817373265752536\n",
      "-1.6521402730287778 -24.833515284428728\n",
      "-1.656097467568202 -24.849018079165354\n",
      "-1.659975518216838 -24.863906963230406\n",
      "-1.6637760078525012 -24.87820624748649\n",
      "-1.6675004876954511 -24.89193928008602\n",
      "-1.671150477941542 -24.905128484594613\n",
      "-1.6747274683827111 -24.91779539660466\n",
      "-1.678232919015057 -24.929960698899116\n",
      "-1.6816682606347557 -24.941644255222712\n",
      "-1.6850348954220606 -24.952865142715893\n",
      "-1.6883341975136195 -24.963641683064346\n",
      "-1.691567513563347 -24.973991472414994\n",
      "-1.69473616329208 -24.98393141010736\n",
      "-1.6978414400262385 -24.99347772626711\n",
      "-1.7008846112257137 -25.002646008306932\n",
      "-1.7038669190011995 -25.011451226377986\n",
      "-1.7067895806211755 -25.019907757813414\n",
      "-1.709653789008752 -25.028029410604006\n",
      "-1.712460713228577 -25.03582944594409\n",
      "-1.7152114989640055 -25.043320599884694\n",
      "-1.7179072689847255 -25.05051510412926\n",
      "-1.720549123605031 -25.05742470600574\n",
      "-1.7208080253578208 -25.058094336880544\n",
      "-1.7210664093071053 -25.058761291910372\n",
      "-1.721324276488491 -25.05942558178789\n",
      "-1.721581627935514 -25.060087217163073\n",
      "-1.721838464679643 -25.060746208643288\n",
      "-1.7220947877502837 -25.061402566793546\n",
      "-1.722350598174783 -25.062056302136646\n",
      "-1.7226058969784335 -25.062707425153306\n",
      "-1.7228606851844765 -25.063355946282385\n",
      "-1.7231149638141077 -25.06400187592105\n",
      "-1.7233687338864794 -25.064645224424872\n",
      "-1.7236219964187065 -25.065286002108067\n",
      "-1.723874752425869 -25.06592421924364\n",
      "-1.7241270029210174 -25.066559886063544\n",
      "-1.7243787489151754 -25.067193012758835\n",
      "-1.724629991417345 -25.067823609479852\n",
      "-1.7248807314345105 -25.068451686336367\n",
      "-1.7251309699716415 -25.069077253397772\n",
      "-1.7253807080316983 -25.069700320693194\n",
      "-1.7256299466156348 -25.070320898211705\n",
      "-1.7258786867224036 -25.070938995902445\n",
      "-1.7261269293489587 -25.071554623674828\n",
      "-1.726374675490261 -25.072167791398613\n",
      "-1.7266219261392803 -25.072778508904193\n",
      "-1.7268686822870019 -25.073386785982606\n",
      "-1.727114944922428 -25.073992632385824\n",
      "-1.7273607150325831 -25.07459605782681\n",
      "-1.7276059936025179 -25.07519707197973\n",
      "-1.7278507816153128 -25.0757956844801\n",
      "-1.7280950800520822 -25.076391904924918\n",
      "-1.728338889891978 -25.076985742872836\n",
      "-1.728582212112194 -25.077577207844314\n",
      "-1.7288250476879696 -25.078166309321773\n",
      "-1.7290673975925936 -25.078753056749726\n",
      "-1.7293092627974085 -25.079337459534955\n",
      "-1.7295506442718136 -25.07991952704665\n",
      "-1.72979154298327 -25.08049926861657\n",
      "-1.7300319598973035 -25.08107669353919\n",
      "-1.730271895977509 -25.081651811071794\n",
      "-1.730511352185554 -25.08222463043475\n",
      "-1.7307503294811828 -25.08279516081153\n",
      "-1.7309888288222204 -25.08336341134894\n",
      "-1.7312268511645759 -25.083929391157184\n",
      "-1.7314643974622468 -25.084493109310117\n",
      "-1.7317014686673222 -25.085054574845316\n",
      "-1.7319380657299877 -25.085613796764235\n",
      "-1.7321741895985276 -25.086170784032362\n",
      "-1.7324098412193305 -25.086725545579363\n",
      "-1.7326450215368918 -25.087278090299236\n",
      "-1.732879731493818 -25.087828427050397\n",
      "-1.7331139720308304 -25.088376564655903\n",
      "-1.7333477440867688 -25.088922511903533\n",
      "-1.7335810485985954 -25.089466277545966\n",
      "-1.7338138865013981 -25.090007870300894\n",
      "-1.7340462587283954 -25.090547298851178\n",
      "-1.7342781662109386 -25.091084571844974\n",
      "-1.7345096098785167 -25.09161969789588\n",
      "-1.7347405906587596 -25.092152685583088\n",
      "-1.734971109477442 -25.092683543451493\n",
      "-1.735201167258487 -25.093212280011862\n",
      "-1.73543076492397 -25.093738903740928\n",
      "-1.735659903394122 -25.09426342308158\n",
      "-1.7358885835873337 -25.094785846442953\n",
      "-1.736116806420159 -25.095306182200567\n",
      "-1.7363445728073188 -25.095824438696496\n",
      "-1.7365718836617041 -25.09634062423946\n",
      "-1.7367987398943807 -25.09685474710499\n",
      "-1.737025142414592 -25.097366815535565\n",
      "-1.7372510921297628 -25.097876837740685\n",
      "-1.7374765899455034 -25.09838482189707\n",
      "-1.7377016367656124 -25.098890776148764\n",
      "-1.737926233492081 -25.099394708607278\n",
      "-1.738150381025097 -25.099896627351683\n",
      "-1.7383740802630467 -25.10039654042879\n",
      "-1.7385973321025205 -25.100894455853236\n",
      "-1.7388201374383154 -25.10139038160765\n",
      "-1.7390424971634388 -25.101884325642743\n",
      "-1.7392644121691119 -25.102376295877477\n",
      "-1.7394858833447737 -25.102866300199153\n",
      "-1.739706911578084 -25.10335434646356\n",
      "-1.739927497754928 -25.103840442495084\n",
      "-1.740147642759418 -25.104324596086883\n",
      "-1.7403673474738992 -25.104806815000913\n",
      "-1.7405866127789513 -25.105287106968163\n",
      "-1.7408054395533934 -25.105765479688728\n",
      "-1.7410238286742865 -25.10624194083188\n",
      "-1.7412417810169378 -25.106716498036327\n",
      "-1.741459297454904 -25.107189158910174\n",
      "-1.741676378859994 -25.107659931031165\n",
      "-1.741893026102274 -25.108128821946764\n",
      "-1.7421092400500695 -25.108595839174257\n",
      "-1.7423250215699693 -25.10906099020093\n",
      "-1.7425403715268293 -25.10952428248408\n",
      "-1.7427552907837756 -25.10998572345128\n",
      "-1.742969780202208 -25.110445320500375\n",
      "-1.7431838406418034 -25.110903080999634\n",
      "-1.7433974729605197 -25.111359012287963\n",
      "-1.7436106780145988 -25.111813121674857\n",
      "-1.7438234566585695 -25.11226541644065\n",
      "-1.7440358097452524 -25.11271590383656\n",
      "-1.744247738125762 -25.113164591084825\n",
      "-1.7444592426495105 -25.113611485378854\n",
      "-1.7446703241642114 -25.114056593883276\n",
      "-1.744880983515883 -25.114499923734115\n",
      "-1.7450912215488512 -25.114941482038873\n",
      "-1.7453010391057535 -25.11538127587665\n",
      "-1.745510437027542 -25.115819312298242\n",
      "-1.745719416153487 -25.116255598326298\n",
      "-1.74592797732118 -25.116690140955384\n",
      "-1.7461361213665376 -25.11712294715214\n",
      "-1.7463438491238046 -25.117554023855313\n",
      "-1.7465511614255569 -25.11798337797599\n",
      "-1.7467580591027059 -25.1184110163976\n",
      "-1.7469645429845004 -25.118836945976078\n",
      "-1.7471706138985315 -25.119261173539954\n",
      "-1.7473762726707345 -25.119683705890488\n",
      "-1.747581520125393 -25.120104549801738\n",
      "-1.7477863570851422 -25.12052371202074\n",
      "-1.7479907843709719 -25.120941199267506\n",
      "-1.7481948028022298 -25.121357018235223\n",
      "-1.7483984131966255 -25.121771175590368\n",
      "-1.7486016163702323 -25.122183677972707\n",
      "-1.7488044131374918 -25.122594531995517\n",
      "-1.7490068043112168 -25.123003744245665\n",
      "-1.7492087907025944 -25.123411321283662\n",
      "-1.7494103731211892 -25.12381726964381\n",
      "-1.7496115523749467 -25.124221595834328\n",
      "-1.7498123292701968 -25.12462430633736\n",
      "-1.7500127046116565 -25.125025407609243\n",
      "-1.750212679202433 -25.125424906080433\n",
      "-1.750412253844028 -25.12582280815574\n",
      "-1.75061142933634 -25.126219120214344\n",
      "-1.7508102064776672 -25.126613848609978\n",
      "-1.7510085860647118 -25.127006999670925\n",
      "-1.7512065688925824 -25.12739857970024\n",
      "-1.7514041557547972 -25.127788594975755\n",
      "-1.7516013474432877 -25.128177051750242\n",
      "-1.751798144748401 -25.12856395625144\n",
      "-1.7519945484589041 -25.128949314682252\n",
      "-1.7521905593619864 -25.129333133220797\n",
      "-1.7523861782432624 -25.12971541802044\n",
      "-1.752581405886776 -25.130096175210028\n",
      "-1.7527762430750025 -25.130475410893894\n",
      "-1.7529706905888525 -25.13085313115195\n",
      "-1.7531647492076747 -25.131229342039873\n",
      "-1.7533584197092593 -25.13160404958908\n",
      "-1.7535517028698409 -25.13197725980693\n",
      "-1.7537445994641012 -25.13234897867674\n",
      "-1.753937110265173 -25.132719212157944\n",
      "-1.7541292360446428 -25.13308796618616\n",
      "-1.7543209775725535 -25.13345524667328\n",
      "-1.7545123356174084 -25.133821059507568\n",
      "-1.7547033109461736 -25.134185410553783\n",
      "-1.7548939043242813 -25.13454830565322\n",
      "-1.7550841165156328 -25.13490975062382\n",
      "-1.7552739482826014 -25.13526975126033\n",
      "-1.7554634003860363 -25.135628313334287\n",
      "-1.7556524735852643 -25.135985442594205\n",
      "-1.7558411686380937 -25.13634114476561\n",
      "-1.7560294863008175 -25.13669542555111\n",
      "-1.7562174273282158 -25.137048290630617\n",
      "-1.7564049924735594 -25.137399745661256\n",
      "-1.7565921824886124 -25.137749796277596\n",
      "-1.7567789981236352 -25.138098448091668\n",
      "-1.756965440127388 -25.13844570669309\n",
      "-1.7571515092471333 -25.138791577649158\n",
      "-1.757337206228639 -25.13913606650486\n",
      "-1.7575225318161818 -25.139479178783112\n",
      "-1.7577074867525495 -25.139820919984693\n",
      "-1.7578920717790445 -25.14016129558844\n",
      "-1.7580762876354865 -25.14050031105127\n",
      "-1.7582601350602156 -25.140837971808303\n",
      "-1.7584436147900953 -25.141174283272946\n",
      "-1.758626727560515 -25.14150925083699\n",
      "-1.758809474105394 -25.14184287987065\n",
      "-1.758991855157183 -25.1421751757227\n",
      "-1.7591738714468688 -25.142506143720503\n",
      "-1.759355523703975 -25.142835789170192\n",
      "-1.7595368126565671 -25.143164117356662\n",
      "-1.759717739031254 -25.14349113354372\n",
      "-1.7598983035531914 -25.14381684297406\n",
      "-1.7600785069460851 -25.144141250869538\n",
      "-1.7602583499321929 -25.144464362431066\n",
      "-1.7604378332323285 -25.144786182838793\n",
      "-1.760616957565864 -25.14510671725217\n",
      "-1.7607957236507321 -25.145425970810038\n",
      "-1.7609741322034307 -25.14574394863068\n",
      "-1.7611521839390238 -25.14606065581195\n",
      "-1.7613298795711458 -25.14637609743132\n",
      "-1.7615072198120036 -25.14669027854599\n",
      "-1.7616842053723796 -25.147003204192927\n",
      "-1.7618608369616349 -25.147314879388965\n",
      "-1.7620371152877117 -25.147625309130923\n",
      "-1.7622130410571362 -25.147934498395635\n",
      "-1.7623886149750219 -25.148242452140053\n",
      "-1.7625638377450719 -25.148549175301305\n",
      "-1.7627387100695817 -25.1488546727968\n",
      "-1.7629132326494426 -25.149158949524292\n",
      "-1.7630874061841437 -25.149462010362\n",
      "-1.7632612313717755 -25.14976386016859\n"
     ]
    }
   ],
   "source": [
    "for s in steps:\n",
    "    print(s, func(s))"
   ]
  },
  {
   "cell_type": "markdown",
   "metadata": {},
   "source": [
    "## 我们要给中国的省会们设置5个核心能源点"
   ]
  },
  {
   "cell_type": "code",
   "execution_count": 152,
   "metadata": {},
   "outputs": [],
   "source": [
    "coordination_source = \"\"\"\n",
    "{name:'兰州', geoCoord:[103.73, 36.03]},\n",
    "{name:'嘉峪关', geoCoord:[98.17, 39.47]},\n",
    "{name:'西宁', geoCoord:[101.74, 36.56]},\n",
    "{name:'成都', geoCoord:[104.06, 30.67]},\n",
    "{name:'石家庄', geoCoord:[114.48, 38.03]},\n",
    "{name:'拉萨', geoCoord:[102.73, 25.04]},\n",
    "{name:'贵阳', geoCoord:[106.71, 26.57]},\n",
    "{name:'武汉', geoCoord:[114.31, 30.52]},\n",
    "{name:'郑州', geoCoord:[113.65, 34.76]},\n",
    "{name:'济南', geoCoord:[117, 36.65]},\n",
    "{name:'南京', geoCoord:[118.78, 32.04]},\n",
    "{name:'合肥', geoCoord:[117.27, 31.86]},\n",
    "{name:'杭州', geoCoord:[120.19, 30.26]},\n",
    "{name:'南昌', geoCoord:[115.89, 28.68]},\n",
    "{name:'福州', geoCoord:[119.3, 26.08]},\n",
    "{name:'广州', geoCoord:[113.23, 23.16]},\n",
    "{name:'长沙', geoCoord:[113, 28.21]},\n",
    "{name:'海口', geoCoord:[110.35, 20.02]},\n",
    "{name:'沈阳', geoCoord:[123.38, 41.8]},\n",
    "{name:'长春', geoCoord:[125.35, 43.88]},\n",
    "{name:'哈尔滨', geoCoord:[126.63, 45.75]},\n",
    "{name:'太原', geoCoord:[112.53, 37.87]},\n",
    "{name:'西安', geoCoord:[108.95, 34.27]},\n",
    "{name:'台湾', geoCoord:[121.30, 25.03]},\n",
    "{name:'北京', geoCoord:[116.46, 39.92]},\n",
    "{name:'上海', geoCoord:[121.48, 31.22]},\n",
    "{name:'重庆', geoCoord:[106.54, 29.59]},\n",
    "{name:'天津', geoCoord:[117.2, 39.13]},\n",
    "{name:'呼和浩特', geoCoord:[111.65, 40.82]},\n",
    "{name:'南宁', geoCoord:[108.33, 22.84]},\n",
    "{name:'西藏', geoCoord:[91.11, 29.97]},\n",
    "{name:'银川', geoCoord:[106.27, 38.47]},\n",
    "{name:'乌鲁木齐', geoCoord:[87.68, 43.77]},\n",
    "{name:'香港', geoCoord:[114.17, 22.28]},\n",
    "{name:'澳门', geoCoord:[113.54, 22.19]}\n",
    "\"\"\""
   ]
  },
  {
   "cell_type": "code",
   "execution_count": 153,
   "metadata": {},
   "outputs": [],
   "source": [
    "import re"
   ]
  },
  {
   "cell_type": "code",
   "execution_count": 154,
   "metadata": {},
   "outputs": [],
   "source": [
    "test_string = \"{name:'乌鲁木齐', geoCoord:[87.68, 43.77]},\""
   ]
  },
  {
   "cell_type": "code",
   "execution_count": 167,
   "metadata": {},
   "outputs": [],
   "source": [
    "pattern = re.compile(r\"name:'(\\w+)',\\s+geoCoord:\\[(\\d+.\\d+),\\s(\\d+.\\d+)\\]\") #  "
   ]
  },
  {
   "cell_type": "code",
   "execution_count": 168,
   "metadata": {},
   "outputs": [
    {
     "data": {
      "text/plain": [
       "[('乌鲁木齐', '87.68', '43.77')]"
      ]
     },
     "execution_count": 168,
     "metadata": {},
     "output_type": "execute_result"
    }
   ],
   "source": [
    "pattern.findall(test_string)"
   ]
  },
  {
   "cell_type": "code",
   "execution_count": 170,
   "metadata": {},
   "outputs": [],
   "source": [
    "city_location = {}"
   ]
  },
  {
   "cell_type": "code",
   "execution_count": 171,
   "metadata": {},
   "outputs": [],
   "source": [
    "for line in coordination_source.split('\\n'):\n",
    "    city_info = pattern.findall(line)\n",
    "    \n",
    "    if not city_info: continue\n",
    "        \n",
    "    city_name, long, lat = city_info[0]\n",
    "    \n",
    "    long, lat = float(long), float(lat)\n",
    "    \n",
    "    city_location[city_name] = [long, lat]"
   ]
  },
  {
   "cell_type": "code",
   "execution_count": 174,
   "metadata": {},
   "outputs": [],
   "source": [
    "??re"
   ]
  },
  {
   "cell_type": "code",
   "execution_count": 172,
   "metadata": {},
   "outputs": [
    {
     "data": {
      "text/plain": [
       "{'兰州': [103.73, 36.03],\n",
       " '嘉峪关': [98.17, 39.47],\n",
       " '西宁': [101.74, 36.56],\n",
       " '成都': [104.06, 30.67],\n",
       " '石家庄': [114.48, 38.03],\n",
       " '拉萨': [102.73, 25.04],\n",
       " '贵阳': [106.71, 26.57],\n",
       " '武汉': [114.31, 30.52],\n",
       " '郑州': [113.65, 34.76],\n",
       " '济南': [117.0, 36.65],\n",
       " '南京': [118.78, 32.04],\n",
       " '合肥': [117.27, 31.86],\n",
       " '杭州': [120.19, 30.26],\n",
       " '南昌': [115.89, 28.68],\n",
       " '福州': [119.3, 26.08],\n",
       " '广州': [113.23, 23.16],\n",
       " '长沙': [113.0, 28.21],\n",
       " '海口': [110.35, 20.02],\n",
       " '沈阳': [123.38, 41.8],\n",
       " '长春': [125.35, 43.88],\n",
       " '哈尔滨': [126.63, 45.75],\n",
       " '太原': [112.53, 37.87],\n",
       " '西安': [108.95, 34.27],\n",
       " '台湾': [121.3, 25.03],\n",
       " '北京': [116.46, 39.92],\n",
       " '上海': [121.48, 31.22],\n",
       " '重庆': [106.54, 29.59],\n",
       " '天津': [117.2, 39.13],\n",
       " '呼和浩特': [111.65, 40.82],\n",
       " '南宁': [108.33, 22.84],\n",
       " '西藏': [91.11, 29.97],\n",
       " '银川': [106.27, 38.47],\n",
       " '乌鲁木齐': [87.68, 43.77],\n",
       " '香港': [114.17, 22.28],\n",
       " '澳门': [113.54, 22.19]}"
      ]
     },
     "execution_count": 172,
     "metadata": {},
     "output_type": "execute_result"
    }
   ],
   "source": [
    "city_location"
   ]
  },
  {
   "cell_type": "code",
   "execution_count": 175,
   "metadata": {},
   "outputs": [],
   "source": [
    "import math"
   ]
  },
  {
   "cell_type": "markdown",
   "metadata": {},
   "source": [
    "## 如何我们要考虑建造能源中心，我们是不是要考虑城市的距离"
   ]
  },
  {
   "cell_type": "markdown",
   "metadata": {},
   "source": [
    "## 距离"
   ]
  },
  {
   "cell_type": "markdown",
   "metadata": {},
   "source": [
    "1. 球面地理距离：GeoDistant\n",
    "2. 余弦距离：Cosine Distance \n",
    "3. 欧几里得距离：Euclidean Distance\n",
    "4. 曼哈顿距离：Manhattan distance "
   ]
  },
  {
   "cell_type": "code",
   "execution_count": 176,
   "metadata": {},
   "outputs": [],
   "source": [
    "def geo_distance(origin, destination):\n",
    "    \"\"\"\n",
    "    Calculate the Haversine distance.\n",
    "\n",
    "    Parameters\n",
    "    ----------\n",
    "    origin : tuple of float\n",
    "        (lat, long)\n",
    "    destination : tuple of float\n",
    "        (lat, long)\n",
    "\n",
    "    Returns\n",
    "    -------\n",
    "    distance_in_km : float\n",
    "\n",
    "    Examples\n",
    "    --------\n",
    "    >>> origin = (48.1372, 11.5756)  # Munich\n",
    "    >>> destination = (52.5186, 13.4083)  # Berlin\n",
    "    >>> round(distance(origin, destination), 1)\n",
    "    504.2\n",
    "    \"\"\"\n",
    "    lon1, lat1 = origin\n",
    "    lon2, lat2 = destination\n",
    "    radius = 6371  # km\n",
    "\n",
    "    dlat = math.radians(lat2 - lat1)\n",
    "    dlon = math.radians(lon2 - lon1)\n",
    "    a = (math.sin(dlat / 2) * math.sin(dlat / 2) +\n",
    "         math.cos(math.radians(lat1)) * math.cos(math.radians(lat2)) *\n",
    "         math.sin(dlon / 2) * math.sin(dlon / 2))\n",
    "    c = 2 * math.atan2(math.sqrt(a), math.sqrt(1 - a))\n",
    "    d = radius * c\n",
    "\n",
    "    return d"
   ]
  },
  {
   "cell_type": "code",
   "execution_count": 177,
   "metadata": {},
   "outputs": [
    {
     "data": {
      "text/plain": [
       "163.0760821403945"
      ]
     },
     "execution_count": 177,
     "metadata": {},
     "output_type": "execute_result"
    }
   ],
   "source": [
    "geo_distance(city_location['上海'], city_location['杭州'])"
   ]
  },
  {
   "cell_type": "code",
   "execution_count": 182,
   "metadata": {},
   "outputs": [],
   "source": [
    "from pylab import mpl"
   ]
  },
  {
   "cell_type": "code",
   "execution_count": 183,
   "metadata": {},
   "outputs": [],
   "source": [
    "mpl.rcParams['font.sans-serif'] = 'FangSong'\n",
    "mpl.rcParams['axes.unicode_minus'] = False # 解决保存图像是负号'-'显示为方块的问题"
   ]
  },
  {
   "cell_type": "code",
   "execution_count": 184,
   "metadata": {},
   "outputs": [],
   "source": [
    "import networkx as nx"
   ]
  },
  {
   "cell_type": "code",
   "execution_count": 185,
   "metadata": {},
   "outputs": [],
   "source": [
    "city_graph = nx.Graph()"
   ]
  },
  {
   "cell_type": "code",
   "execution_count": 186,
   "metadata": {},
   "outputs": [],
   "source": [
    "city_graph.add_nodes_from(list(city_location.keys()))"
   ]
  },
  {
   "cell_type": "code",
   "execution_count": 187,
   "metadata": {},
   "outputs": [
    {
     "data": {
      "image/png": "[encoded data removed]",
      "text/plain": [
       "<Figure size 432x288 with 1 Axes>"
      ]
     },
     "metadata": {},
     "output_type": "display_data"
    }
   ],
   "source": [
    "nx.draw(city_graph, city_location, with_labels=True, node_size=30)"
   ]
  },
  {
   "cell_type": "code",
   "execution_count": 193,
   "metadata": {},
   "outputs": [],
   "source": [
    "Xs = np.array(list(city_location.values()))"
   ]
  },
  {
   "cell_type": "markdown",
   "metadata": {},
   "source": [
    "## FeatureExtractor Finished "
   ]
  },
  {
   "cell_type": "code",
   "execution_count": 195,
   "metadata": {},
   "outputs": [
    {
     "data": {
      "text/plain": [
       "array([[103.73,  36.03],\n",
       "       [ 98.17,  39.47],\n",
       "       [101.74,  36.56],\n",
       "       [104.06,  30.67],\n",
       "       [114.48,  38.03],\n",
       "       [102.73,  25.04],\n",
       "       [106.71,  26.57],\n",
       "       [114.31,  30.52],\n",
       "       [113.65,  34.76],\n",
       "       [117.  ,  36.65],\n",
       "       [118.78,  32.04],\n",
       "       [117.27,  31.86],\n",
       "       [120.19,  30.26],\n",
       "       [115.89,  28.68],\n",
       "       [119.3 ,  26.08],\n",
       "       [113.23,  23.16],\n",
       "       [113.  ,  28.21],\n",
       "       [110.35,  20.02],\n",
       "       [123.38,  41.8 ],\n",
       "       [125.35,  43.88],\n",
       "       [126.63,  45.75],\n",
       "       [112.53,  37.87],\n",
       "       [108.95,  34.27],\n",
       "       [121.3 ,  25.03],\n",
       "       [116.46,  39.92],\n",
       "       [121.48,  31.22],\n",
       "       [106.54,  29.59],\n",
       "       [117.2 ,  39.13],\n",
       "       [111.65,  40.82],\n",
       "       [108.33,  22.84],\n",
       "       [ 91.11,  29.97],\n",
       "       [106.27,  38.47],\n",
       "       [ 87.68,  43.77],\n",
       "       [114.17,  22.28],\n",
       "       [113.54,  22.19]])"
      ]
     },
     "execution_count": 195,
     "metadata": {},
     "output_type": "execute_result"
    }
   ],
   "source": [
    "Xs"
   ]
  },
  {
   "cell_type": "markdown",
   "metadata": {},
   "source": [
    "## 找到合理的能源中心"
   ]
  },
  {
   "cell_type": "code",
   "execution_count": 197,
   "metadata": {},
   "outputs": [
    {
     "data": {
      "text/plain": [
       "array([[103.73,  36.03],\n",
       "       [ 98.17,  39.47],\n",
       "       [101.74,  36.56],\n",
       "       [104.06,  30.67],\n",
       "       [114.48,  38.03],\n",
       "       [102.73,  25.04],\n",
       "       [106.71,  26.57],\n",
       "       [114.31,  30.52],\n",
       "       [113.65,  34.76],\n",
       "       [117.  ,  36.65],\n",
       "       [118.78,  32.04],\n",
       "       [117.27,  31.86],\n",
       "       [120.19,  30.26],\n",
       "       [115.89,  28.68],\n",
       "       [119.3 ,  26.08],\n",
       "       [113.23,  23.16],\n",
       "       [113.  ,  28.21],\n",
       "       [110.35,  20.02],\n",
       "       [123.38,  41.8 ],\n",
       "       [125.35,  43.88],\n",
       "       [126.63,  45.75],\n",
       "       [112.53,  37.87],\n",
       "       [108.95,  34.27],\n",
       "       [121.3 ,  25.03],\n",
       "       [116.46,  39.92],\n",
       "       [121.48,  31.22],\n",
       "       [106.54,  29.59],\n",
       "       [117.2 ,  39.13],\n",
       "       [111.65,  40.82],\n",
       "       [108.33,  22.84],\n",
       "       [ 91.11,  29.97],\n",
       "       [106.27,  38.47],\n",
       "       [ 87.68,  43.77],\n",
       "       [114.17,  22.28],\n",
       "       [113.54,  22.19]])"
      ]
     },
     "execution_count": 197,
     "metadata": {},
     "output_type": "execute_result"
    }
   ],
   "source": [
    "Xs"
   ]
  },
  {
   "cell_type": "code",
   "execution_count": 240,
   "metadata": {},
   "outputs": [
    {
     "name": "stdout",
     "output_type": "stream",
     "text": [
      "Updated: 5 center\n",
      "Updated: 1 center\n",
      "Updated: 3 center\n",
      "Updated: 2 center\n",
      "Updated: 4 center\n",
      "Updated: 1 center\n",
      "Updated: 3 center\n",
      "Updated: 2 center\n",
      "Updated: 3 center\n",
      "Updated: 2 center\n",
      "Updated: 3 center\n",
      "Updated: 2 center\n",
      "Updated: 5 center\n",
      "Updated: 3 center\n",
      "Updated: 2 center\n"
     ]
    }
   ],
   "source": [
    "def get_random_ceneter(all_x, all_y):\n",
    "    return random.uniform(min(all_x), max(all_x)), random.uniform(min(all_y), max(all_y))\n",
    "\n",
    "all_x = Xs[:, 0]\n",
    "all_y = Xs[:, 1]\n",
    "\n",
    "K = 5\n",
    "threshold = 3\n",
    "\n",
    "centers = {'{}'.format(i+1): get_random_ceneter(all_x, all_y) for i in range(K)}\n",
    "\n",
    "the_first_center = {k: v for k, v in centers.items()}\n",
    "\n",
    "changed = True\n",
    "\n",
    "while changed:\n",
    "    closet_points = defaultdict(list)\n",
    "\n",
    "    for x, y in zip(all_x, all_y):\n",
    "        closet_c, closet_dis = min([(k, geo_distance((x, y), centers[k])) for k in centers], key=lambda t:t[1])\n",
    "        closet_points[closet_c].append([x, y])\n",
    "\n",
    "    changed = False\n",
    "    \n",
    "    for c in closet_points:\n",
    "        former_center = centers[c] \n",
    "\n",
    "        neigbors_belong_to_c = closet_points[c]\n",
    "\n",
    "        neighbors_center = np.mean(neigbors_belong_to_c, axis=0)\n",
    "\n",
    "        if geo_distance(neighbors_center, former_center) > threshold:\n",
    "            print('Updated: {} center'.format(c))\n",
    "            centers[c] = neighbors_center # 赋值新的中心点\n",
    "            changed = True"
   ]
  },
  {
   "cell_type": "code",
   "execution_count": 241,
   "metadata": {},
   "outputs": [
    {
     "data": {
      "text/plain": [
       "{'1': array([109.266,  25.057]),\n",
       " '2': array([118.565  ,  29.46125]),\n",
       " '3': array([117.02545455,  39.35272727]),\n",
       " '4': array([91.11, 29.97]),\n",
       " '5': array([99.518, 38.86 ])}"
      ]
     },
     "execution_count": 241,
     "metadata": {},
     "output_type": "execute_result"
    }
   ],
   "source": [
    "centers"
   ]
  },
  {
   "cell_type": "code",
   "execution_count": 242,
   "metadata": {},
   "outputs": [
    {
     "name": "stdout",
     "output_type": "stream",
     "text": [
      "109.266 25.057000000000002\n",
      "118.565 29.46125\n",
      "117.02545454545456 39.35272727272727\n",
      "91.11 29.97\n",
      "99.518 38.86\n"
     ]
    }
   ],
   "source": [
    "for x, y in centers.values():\n",
    "    print(x, y)"
   ]
  },
  {
   "cell_type": "code",
   "execution_count": 243,
   "metadata": {},
   "outputs": [
    {
     "data": {
      "text/plain": [
       "[[1, 2], [-1, -2]]"
      ]
     },
     "execution_count": 243,
     "metadata": {},
     "output_type": "execute_result"
    }
   ],
   "source": [
    "[[1, 2], [-1, -2]]"
   ]
  },
  {
   "cell_type": "code",
   "execution_count": 244,
   "metadata": {},
   "outputs": [
    {
     "name": "stdout",
     "output_type": "stream",
     "text": [
      "(1, -1)\n",
      "(2, -2)\n"
     ]
    }
   ],
   "source": [
    "for e in zip([1, 2], [-1,-2]): \n",
    "    print(e)"
   ]
  },
  {
   "cell_type": "code",
   "execution_count": 245,
   "metadata": {},
   "outputs": [
    {
     "data": {
      "text/plain": [
       "<matplotlib.collections.PathCollection at 0x2005f6cb6c8>"
      ]
     },
     "execution_count": 245,
     "metadata": {},
     "output_type": "execute_result"
    },
    {
     "data": {
      "image/png": "[encoded data removed]",
      "text/plain": [
       "<Figure size 432x288 with 1 Axes>"
      ]
     },
     "metadata": {
      "needs_background": "light"
     },
     "output_type": "display_data"
    }
   ],
   "source": [
    "plt.scatter(*[all_x, all_y])\n",
    "#plt.scatter([x for x, y in centers.values()], [y for x, y in centers.values()])\n",
    "plt.scatter(*zip(*centers.values()))"
   ]
  },
  {
   "cell_type": "code",
   "execution_count": 246,
   "metadata": {},
   "outputs": [],
   "source": [
    "city_location_with_station = {\n",
    "    '能源站-{}'.format(int(i)+1): position for i , position in centers.items()\n",
    "}"
   ]
  },
  {
   "cell_type": "code",
   "execution_count": 247,
   "metadata": {},
   "outputs": [
    {
     "data": {
      "text/plain": [
       "{'能源站-2': array([109.266,  25.057]),\n",
       " '能源站-3': array([118.565  ,  29.46125]),\n",
       " '能源站-4': array([117.02545455,  39.35272727]),\n",
       " '能源站-5': array([91.11, 29.97]),\n",
       " '能源站-6': array([99.518, 38.86 ])}"
      ]
     },
     "execution_count": 247,
     "metadata": {},
     "output_type": "execute_result"
    }
   ],
   "source": [
    "city_location_with_station"
   ]
  },
  {
   "cell_type": "code",
   "execution_count": 248,
   "metadata": {},
   "outputs": [],
   "source": [
    "def draw_cities(cities, color=None):\n",
    "    city_graph = nx.Graph()\n",
    "    city_graph.add_nodes_from(list(cities.keys()))\n",
    "    nx.draw(city_graph, cities, node_color=color, with_labels=True, node_size=50)"
   ]
  },
  {
   "cell_type": "code",
   "execution_count": 249,
   "metadata": {},
   "outputs": [
    {
     "data": {
      "image/png": "[encoded data removed]",
      "text/plain": [
       "<Figure size 864x864 with 1 Axes>"
      ]
     },
     "metadata": {},
     "output_type": "display_data"
    }
   ],
   "source": [
    "plt.figure(1, figsize=(12, 12))\n",
    "draw_cities({'初始点-{}'.format(int(i)+1): p for i, p in the_first_center.items()}, color='yellow')\n",
    "draw_cities(city_location_with_station, color='green')\n",
    "draw_cities(city_location, color='red')"
   ]
  },
  {
   "cell_type": "code",
   "execution_count": null,
   "metadata": {},
   "outputs": [],
   "source": [
    "clos"
   ]
  },
  {
   "cell_type": "code",
   "execution_count": 202,
   "metadata": {},
   "outputs": [
    {
     "data": {
      "text/plain": [
       "{'1': (122.43806023649287, 25.62463833996216),\n",
       " '2': (103.62283644970425, 39.37910542722301),\n",
       " '3': (113.7970505863809, 41.72458742165483),\n",
       " '4': (124.06317765713959, 31.90190529547934),\n",
       " '5': (113.43529893379528, 31.87828603460956)}"
      ]
     },
     "execution_count": 202,
     "metadata": {},
     "output_type": "execute_result"
    }
   ],
   "source": [
    "centers"
   ]
  },
  {
   "cell_type": "code",
   "execution_count": 250,
   "metadata": {},
   "outputs": [],
   "source": [
    " from sklearn.cluster import KMeans"
   ]
  },
  {
   "cell_type": "code",
   "execution_count": 252,
   "metadata": {},
   "outputs": [],
   "source": [
    " kmeans = KMeans(n_clusters=5, random_state=0).fit(Xs)"
   ]
  },
  {
   "cell_type": "code",
   "execution_count": 257,
   "metadata": {},
   "outputs": [
    {
     "data": {
      "image/png": "[encoded data removed]",
      "text/plain": [
       "<Figure size 864x864 with 1 Axes>"
      ]
     },
     "metadata": {},
     "output_type": "display_data"
    }
   ],
   "source": [
    "plt.figure(1, figsize=(12, 12))\n",
    "draw_cities({'初始点-{}'.format(int(i)+1): p for i, p in the_first_center.items()}, color='yellow')\n",
    "draw_cities({'sk-求解点-{}'.format(int(i)+1): p for i, p in enumerate(kmeans.cluster_centers_)}, color='cyan')\n",
    "draw_cities(city_location_with_station, color='green')\n",
    "draw_cities(city_location, color='red')"
   ]
  },
  {
   "cell_type": "code",
   "execution_count": 190,
   "metadata": {},
   "outputs": [
    {
     "data": {
      "text/plain": [
       "([103.73,\n",
       "  98.17,\n",
       "  101.74,\n",
       "  104.06,\n",
       "  114.48,\n",
       "  102.73,\n",
       "  106.71,\n",
       "  114.31,\n",
       "  113.65,\n",
       "  117.0,\n",
       "  118.78,\n",
       "  117.27,\n",
       "  120.19,\n",
       "  115.89,\n",
       "  119.3,\n",
       "  113.23,\n",
       "  113.0,\n",
       "  110.35,\n",
       "  123.38,\n",
       "  125.35,\n",
       "  126.63,\n",
       "  112.53,\n",
       "  108.95,\n",
       "  121.3,\n",
       "  116.46,\n",
       "  121.48,\n",
       "  106.54,\n",
       "  117.2,\n",
       "  111.65,\n",
       "  108.33,\n",
       "  91.11,\n",
       "  106.27,\n",
       "  87.68,\n",
       "  114.17,\n",
       "  113.54],\n",
       " [36.03,\n",
       "  39.47,\n",
       "  36.56,\n",
       "  30.67,\n",
       "  38.03,\n",
       "  25.04,\n",
       "  26.57,\n",
       "  30.52,\n",
       "  34.76,\n",
       "  36.65,\n",
       "  32.04,\n",
       "  31.86,\n",
       "  30.26,\n",
       "  28.68,\n",
       "  26.08,\n",
       "  23.16,\n",
       "  28.21,\n",
       "  20.02,\n",
       "  41.8,\n",
       "  43.88,\n",
       "  45.75,\n",
       "  37.87,\n",
       "  34.27,\n",
       "  25.03,\n",
       "  39.92,\n",
       "  31.22,\n",
       "  29.59,\n",
       "  39.13,\n",
       "  40.82,\n",
       "  22.84,\n",
       "  29.97,\n",
       "  38.47,\n",
       "  43.77,\n",
       "  22.28,\n",
       "  22.19])"
      ]
     },
     "execution_count": 190,
     "metadata": {},
     "output_type": "execute_result"
    }
   ],
   "source": [
    "all_x, all_y"
   ]
  }
 ],
 "metadata": {
  "kernelspec": {
   "display_name": "Python 3",
   "language": "python",
   "name": "python3"
  },
  "language_info": {
   "codemirror_mode": {
    "name": "ipython",
    "version": 3
   },
   "file_extension": ".py",
   "mimetype": "text/x-python",
   "name": "python",
   "nbconvert_exporter": "python",
   "pygments_lexer": "ipython3",
   "version": "3.7.6"
  }
 },
 "nbformat": 4,
 "nbformat_minor": 4
}
