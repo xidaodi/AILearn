{
 "cells": [
  {
   "cell_type": "code",
   "execution_count": 20,
   "metadata": {},
   "outputs": [
    {
     "data": {
      "text/plain": [
       "11"
      ]
     },
     "execution_count": 20,
     "metadata": {},
     "output_type": "execute_result"
    }
   ],
   "source": [
    "original_price=[1,5,8,9,10,17,17,20,24,30,33]\n",
    "len(original_price)"
   ]
  },
  {
   "cell_type": "code",
   "execution_count": 21,
   "metadata": {},
   "outputs": [
    {
     "data": {
      "text/plain": [
       "[(0, 1),\n",
       " (1, 5),\n",
       " (2, 8),\n",
       " (3, 9),\n",
       " (4, 10),\n",
       " (5, 17),\n",
       " (6, 17),\n",
       " (7, 20),\n",
       " (8, 24),\n",
       " (9, 30),\n",
       " (10, 33)]"
      ]
     },
     "execution_count": 21,
     "metadata": {},
     "output_type": "execute_result"
    }
   ],
   "source": [
    "list(enumerate(original_price))"
   ]
  },
  {
   "cell_type": "code",
   "execution_count": 22,
   "metadata": {},
   "outputs": [],
   "source": [
    "from collections import defaultdict\n",
    "price = defaultdict(int)"
   ]
  },
  {
   "cell_type": "code",
   "execution_count": 23,
   "metadata": {},
   "outputs": [
    {
     "data": {
      "text/plain": [
       "defaultdict(int, {})"
      ]
     },
     "execution_count": 23,
     "metadata": {},
     "output_type": "execute_result"
    }
   ],
   "source": [
    "price"
   ]
  },
  {
   "cell_type": "code",
   "execution_count": 24,
   "metadata": {},
   "outputs": [],
   "source": [
    "# price={i+1:p for i,p in enumerate(original_price)}  "
   ]
  },
  {
   "cell_type": "code",
   "execution_count": 29,
   "metadata": {},
   "outputs": [],
   "source": [
    "for i,p in enumerate(original_price):\n",
    "    price[i+1]=p"
   ]
  },
  {
   "cell_type": "code",
   "execution_count": 30,
   "metadata": {},
   "outputs": [
    {
     "data": {
      "text/plain": [
       "defaultdict(int,\n",
       "            {1: 1,\n",
       "             2: 5,\n",
       "             3: 8,\n",
       "             4: 9,\n",
       "             5: 10,\n",
       "             6: 17,\n",
       "             7: 17,\n",
       "             8: 20,\n",
       "             9: 24,\n",
       "             10: 30,\n",
       "             11: 33})"
      ]
     },
     "execution_count": 30,
     "metadata": {},
     "output_type": "execute_result"
    }
   ],
   "source": [
    "price"
   ]
  },
  {
   "cell_type": "code",
   "execution_count": 31,
   "metadata": {},
   "outputs": [
    {
     "data": {
      "text/plain": [
       "collections.defaultdict"
      ]
     },
     "execution_count": 31,
     "metadata": {},
     "output_type": "execute_result"
    }
   ],
   "source": [
    "type(price)"
   ]
  },
  {
   "cell_type": "code",
   "execution_count": 32,
   "metadata": {},
   "outputs": [
    {
     "data": {
      "text/plain": [
       "[1, 2, 3, 4, 5, 6, 7, 8, 9]"
      ]
     },
     "execution_count": 32,
     "metadata": {},
     "output_type": "execute_result"
    }
   ],
   "source": [
    "list(range(1,10))"
   ]
  },
  {
   "cell_type": "code",
   "execution_count": 33,
   "metadata": {},
   "outputs": [
    {
     "name": "stdout",
     "output_type": "stream",
     "text": [
      "-1 3\n"
     ]
    }
   ],
   "source": [
    "test=[(1,2),(-1,3),(2,1)]\n",
    "i,j=max(test,key=lambda x: x[1])\n",
    "print(i,j)"
   ]
  },
  {
   "cell_type": "code",
   "execution_count": 34,
   "metadata": {},
   "outputs": [],
   "source": [
    "def memo(func):\n",
    "    cache={}\n",
    "    def wrapper(n):\n",
    "        if n in cache:\n",
    "            result = cache[n]\n",
    "        else:\n",
    "            result=func(n)\n",
    "            cache[n]=result\n",
    "        return result\n",
    "    return wrapper\n",
    "            \n",
    "        "
   ]
  },
  {
   "cell_type": "code",
   "execution_count": 35,
   "metadata": {},
   "outputs": [],
   "source": [
    "solution={}"
   ]
  },
  {
   "cell_type": "code",
   "execution_count": 36,
   "metadata": {},
   "outputs": [],
   "source": [
    "# @memo\n",
    "def r(n):\n",
    "    candidates = []\n",
    "\n",
    "    for i in range(1, n):\n",
    "        candidates.append( (r(i) + r(n - i), i) )\n",
    "    \n",
    "    candidates.append( (price[n], 0) )\n",
    "    \n",
    "    max_price, split_point  = max(candidates,key=lambda x: x[0])\n",
    "    \n",
    "    global solution\n",
    "    solution[n]=(split_point,n-split_point)\n",
    "    \n",
    "    return max_price"
   ]
  },
  {
   "cell_type": "code",
   "execution_count": 37,
   "metadata": {},
   "outputs": [
    {
     "data": {
      "text/plain": [
       "collections.defaultdict"
      ]
     },
     "execution_count": 37,
     "metadata": {},
     "output_type": "execute_result"
    }
   ],
   "source": [
    "type(price)"
   ]
  },
  {
   "cell_type": "code",
   "execution_count": 38,
   "metadata": {},
   "outputs": [
    {
     "data": {
      "text/plain": [
       "43"
      ]
     },
     "execution_count": 38,
     "metadata": {},
     "output_type": "execute_result"
    }
   ],
   "source": [
    "r(15)"
   ]
  },
  {
   "cell_type": "code",
   "execution_count": 107,
   "metadata": {},
   "outputs": [
    {
     "data": {
      "text/plain": [
       "{1: (0, 1),\n",
       " 2: (0, 2),\n",
       " 3: (0, 3),\n",
       " 4: (2, 2),\n",
       " 5: (2, 3),\n",
       " 6: (0, 6),\n",
       " 7: (1, 6),\n",
       " 8: (2, 6),\n",
       " 9: (3, 6),\n",
       " 10: (0, 10),\n",
       " 11: (0, 11)}"
      ]
     },
     "execution_count": 107,
     "metadata": {},
     "output_type": "execute_result"
    }
   ],
   "source": [
    "solution"
   ]
  },
  {
   "cell_type": "code",
   "execution_count": null,
   "metadata": {},
   "outputs": [],
   "source": [
    "#第二段代码"
   ]
  },
  {
   "cell_type": "code",
   "execution_count": 58,
   "metadata": {},
   "outputs": [],
   "source": [
    "coordination_source = \"\"\"\n",
    "{name:'兰州', geoCoord:[103.73, 36.03]},\n",
    "{name:'嘉峪关', geoCoord:[98.17, 39.47]},\n",
    "{name:'西宁', geoCoord:[101.74, 36.56]},\n",
    "{name:'成都', geoCoord:[104.06, 30.67]},\n",
    "{name:'石家庄', geoCoord:[114.48, 38.03]},\n",
    "{name:'拉萨', geoCoord:[102.73, 25.04]},\n",
    "{name:'贵阳', geoCoord:[106.71, 26.57]},\n",
    "{name:'武汉', geoCoord:[114.31, 30.52]},\n",
    "{name:'郑州', geoCoord:[113.65, 34.76]},\n",
    "{name:'济南', geoCoord:[117, 36.65]},\n",
    "{name:'南京', geoCoord:[118.78, 32.04]},\n",
    "{name:'合肥', geoCoord:[117.27, 31.86]},\n",
    "{name:'杭州', geoCoord:[120.19, 30.26]},\n",
    "{name:'南昌', geoCoord:[115.89, 28.68]},\n",
    "{name:'福州', geoCoord:[119.3, 26.08]},\n",
    "{name:'广州', geoCoord:[113.23, 23.16]},\n",
    "{name:'长沙', geoCoord:[113, 28.21]},\n",
    "{name:'海口', geoCoord:[110.35, 20.02]},\n",
    "{name:'沈阳', geoCoord:[123.38, 41.8]},\n",
    "{name:'长春', geoCoord:[125.35, 43.88]},\n",
    "{name:'哈尔滨', geoCoord:[126.63, 45.75]},\n",
    "{name:'太原', geoCoord:[112.53, 37.87]},\n",
    "{name:'西安', geoCoord:[108.95, 34.27]},\n",
    "{name:'台湾', geoCoord:[121.30, 25.03]},\n",
    "{name:'北京', geoCoord:[116.46, 39.92]},\n",
    "{name:'上海', geoCoord:[121.48, 31.22]},\n",
    "{name:'重庆', geoCoord:[106.54, 29.59]},\n",
    "{name:'天津', geoCoord:[117.2, 39.13]},\n",
    "{name:'呼和浩特', geoCoord:[111.65, 40.82]},\n",
    "{name:'南宁', geoCoord:[108.33, 22.84]},\n",
    "{name:'西藏', geoCoord:[91.11, 29.97]},\n",
    "{name:'银川', geoCoord:[106.27, 38.47]},\n",
    "{name:'乌鲁木齐', geoCoord:[87.68, 43.77]},\n",
    "{name:'香港', geoCoord:[114.17, 22.28]},\n",
    "{name:'澳门', geoCoord:[113.54, 22.19]}\n",
    "\"\"\""
   ]
  },
  {
   "cell_type": "code",
   "execution_count": 59,
   "metadata": {},
   "outputs": [
    {
     "data": {
      "text/plain": [
       "[('乌鲁木齐', '87.68', '43.77')]"
      ]
     },
     "execution_count": 59,
     "metadata": {},
     "output_type": "execute_result"
    }
   ],
   "source": [
    "import re\n",
    "test_string = \"{name:'乌鲁木齐', geoCoord:[87.68, 43.77]},\"\n",
    "pattern = re.compile(r\"name:'(\\w+)',\\s+geoCoord:\\[(\\d+.\\d+),\\s(\\d+.\\d+)\\]\") \n",
    "pattern.findall(test_string)"
   ]
  },
  {
   "cell_type": "code",
   "execution_count": 60,
   "metadata": {},
   "outputs": [
    {
     "name": "stdout",
     "output_type": "stream",
     "text": [
      "[]\n",
      "[('兰州', '103.73', '36.03')]\n",
      "[('嘉峪关', '98.17', '39.47')]\n",
      "[('西宁', '101.74', '36.56')]\n",
      "[('成都', '104.06', '30.67')]\n",
      "[('石家庄', '114.48', '38.03')]\n",
      "[('拉萨', '102.73', '25.04')]\n",
      "[('贵阳', '106.71', '26.57')]\n",
      "[('武汉', '114.31', '30.52')]\n",
      "[('郑州', '113.65', '34.76')]\n",
      "[('济南', '117', '36.65')]\n",
      "[('南京', '118.78', '32.04')]\n",
      "[('合肥', '117.27', '31.86')]\n",
      "[('杭州', '120.19', '30.26')]\n",
      "[('南昌', '115.89', '28.68')]\n",
      "[('福州', '119.3', '26.08')]\n",
      "[('广州', '113.23', '23.16')]\n",
      "[('长沙', '113', '28.21')]\n",
      "[('海口', '110.35', '20.02')]\n",
      "[('沈阳', '123.38', '41.8')]\n",
      "[('长春', '125.35', '43.88')]\n",
      "[('哈尔滨', '126.63', '45.75')]\n",
      "[('太原', '112.53', '37.87')]\n",
      "[('西安', '108.95', '34.27')]\n",
      "[('台湾', '121.30', '25.03')]\n",
      "[('北京', '116.46', '39.92')]\n",
      "[('上海', '121.48', '31.22')]\n",
      "[('重庆', '106.54', '29.59')]\n",
      "[('天津', '117.2', '39.13')]\n",
      "[('呼和浩特', '111.65', '40.82')]\n",
      "[('南宁', '108.33', '22.84')]\n",
      "[('西藏', '91.11', '29.97')]\n",
      "[('银川', '106.27', '38.47')]\n",
      "[('乌鲁木齐', '87.68', '43.77')]\n",
      "[('香港', '114.17', '22.28')]\n",
      "[('澳门', '113.54', '22.19')]\n",
      "[]\n"
     ]
    }
   ],
   "source": [
    "city_location = {}\n",
    "for line in coordination_source.split('\\n'):\n",
    "    city_info = pattern.findall(line)\n",
    "    print(city_info)\n",
    "    if not city_info: continue\n",
    "        \n",
    "    city_name, long, lat = city_info[0]\n",
    "    \n",
    "    long, lat = float(long), float(lat)\n",
    "    \n",
    "    city_location[city_name] = [long, lat]"
   ]
  },
  {
   "cell_type": "code",
   "execution_count": 61,
   "metadata": {},
   "outputs": [
    {
     "data": {
      "text/plain": [
       "[]"
      ]
     },
     "execution_count": 61,
     "metadata": {},
     "output_type": "execute_result"
    }
   ],
   "source": [
    "city_info"
   ]
  },
  {
   "cell_type": "code",
   "execution_count": 62,
   "metadata": {},
   "outputs": [
    {
     "data": {
      "text/plain": [
       "{'兰州': [103.73, 36.03],\n",
       " '嘉峪关': [98.17, 39.47],\n",
       " '西宁': [101.74, 36.56],\n",
       " '成都': [104.06, 30.67],\n",
       " '石家庄': [114.48, 38.03],\n",
       " '拉萨': [102.73, 25.04],\n",
       " '贵阳': [106.71, 26.57],\n",
       " '武汉': [114.31, 30.52],\n",
       " '郑州': [113.65, 34.76],\n",
       " '济南': [117.0, 36.65],\n",
       " '南京': [118.78, 32.04],\n",
       " '合肥': [117.27, 31.86],\n",
       " '杭州': [120.19, 30.26],\n",
       " '南昌': [115.89, 28.68],\n",
       " '福州': [119.3, 26.08],\n",
       " '广州': [113.23, 23.16],\n",
       " '长沙': [113.0, 28.21],\n",
       " '海口': [110.35, 20.02],\n",
       " '沈阳': [123.38, 41.8],\n",
       " '长春': [125.35, 43.88],\n",
       " '哈尔滨': [126.63, 45.75],\n",
       " '太原': [112.53, 37.87],\n",
       " '西安': [108.95, 34.27],\n",
       " '台湾': [121.3, 25.03],\n",
       " '北京': [116.46, 39.92],\n",
       " '上海': [121.48, 31.22],\n",
       " '重庆': [106.54, 29.59],\n",
       " '天津': [117.2, 39.13],\n",
       " '呼和浩特': [111.65, 40.82],\n",
       " '南宁': [108.33, 22.84],\n",
       " '西藏': [91.11, 29.97],\n",
       " '银川': [106.27, 38.47],\n",
       " '乌鲁木齐': [87.68, 43.77],\n",
       " '香港': [114.17, 22.28],\n",
       " '澳门': [113.54, 22.19]}"
      ]
     },
     "execution_count": 62,
     "metadata": {},
     "output_type": "execute_result"
    }
   ],
   "source": [
    "city_location"
   ]
  },
  {
   "cell_type": "code",
   "execution_count": 63,
   "metadata": {},
   "outputs": [],
   "source": [
    "def geo_distance(origin, destination):\n",
    "    \"\"\"\n",
    "    Calculate the Haversine distance.\n",
    "\n",
    "    Parameters\n",
    "    ----------\n",
    "    origin : tuple of float\n",
    "        (lat, long)\n",
    "    destination : tuple of float\n",
    "        (lat, long)\n",
    "\n",
    "    Returns\n",
    "    -------\n",
    "    distance_in_km : float\n",
    "\n",
    "    Examples\n",
    "    --------\n",
    "    >>> origin = (48.1372, 11.5756)  # Munich\n",
    "    >>> destination = (52.5186, 13.4083)  # Berlin\n",
    "    >>> round(distance(origin, destination), 1)\n",
    "    504.2\n",
    "    \"\"\"\n",
    "    lon1, lat1 = origin\n",
    "    lon2, lat2 = destination\n",
    "    radius = 6371  # km\n",
    "\n",
    "    dlat = math.radians(lat2 - lat1)\n",
    "    dlon = math.radians(lon2 - lon1)\n",
    "    a = (math.sin(dlat / 2) * math.sin(dlat / 2) +\n",
    "         math.cos(math.radians(lat1)) * math.cos(math.radians(lat2)) *\n",
    "         math.sin(dlon / 2) * math.sin(dlon / 2))\n",
    "    c = 2 * math.atan2(math.sqrt(a), math.sqrt(1 - a))\n",
    "    d = radius * c\n",
    "\n",
    "    return d"
   ]
  },
  {
   "cell_type": "code",
   "execution_count": 64,
   "metadata": {},
   "outputs": [
    {
     "data": {
      "text/plain": [
       "163.0760821403945"
      ]
     },
     "execution_count": 64,
     "metadata": {},
     "output_type": "execute_result"
    }
   ],
   "source": [
    "import math\n",
    "geo_distance(city_location['上海'], city_location['杭州'])"
   ]
  },
  {
   "cell_type": "code",
   "execution_count": 65,
   "metadata": {},
   "outputs": [],
   "source": [
    "from pylab import mpl\n",
    "mpl.rcParams['font.sans-serif'] = 'FangSong'\n",
    "mpl.rcParams['axes.unicode_minus'] = False # 解决保存图像是负号'-'显示为方块的问题"
   ]
  },
  {
   "cell_type": "code",
   "execution_count": 66,
   "metadata": {},
   "outputs": [
    {
     "data": {
      "image/png": "[encoded data removed]",
      "text/plain": [
       "<Figure size 432x288 with 1 Axes>"
      ]
     },
     "metadata": {},
     "output_type": "display_data"
    }
   ],
   "source": [
    "import networkx as nx\n",
    "city_graph=nx.Graph()\n",
    "city_graph.add_nodes_from(list(city_location.keys()))\n",
    "nx.draw(city_graph, city_location, with_labels=True, node_size=30)"
   ]
  },
  {
   "cell_type": "code",
   "execution_count": 67,
   "metadata": {},
   "outputs": [],
   "source": [
    "all_x,all_y=[],[]\n",
    "for k ,v in city_location.items():\n",
    "    x,y=v\n",
    "    all_x.append(x)\n",
    "    all_y.append(y)"
   ]
  },
  {
   "cell_type": "code",
   "execution_count": 70,
   "metadata": {},
   "outputs": [],
   "source": [
    "import numpy as np\n",
    "Xs=np.array(list(city_location.values()))"
   ]
  },
  {
   "cell_type": "code",
   "execution_count": 71,
   "metadata": {},
   "outputs": [
    {
     "data": {
      "text/plain": [
       "array([[103.73,  36.03],\n",
       "       [ 98.17,  39.47],\n",
       "       [101.74,  36.56],\n",
       "       [104.06,  30.67],\n",
       "       [114.48,  38.03],\n",
       "       [102.73,  25.04],\n",
       "       [106.71,  26.57],\n",
       "       [114.31,  30.52],\n",
       "       [113.65,  34.76],\n",
       "       [117.  ,  36.65],\n",
       "       [118.78,  32.04],\n",
       "       [117.27,  31.86],\n",
       "       [120.19,  30.26],\n",
       "       [115.89,  28.68],\n",
       "       [119.3 ,  26.08],\n",
       "       [113.23,  23.16],\n",
       "       [113.  ,  28.21],\n",
       "       [110.35,  20.02],\n",
       "       [123.38,  41.8 ],\n",
       "       [125.35,  43.88],\n",
       "       [126.63,  45.75],\n",
       "       [112.53,  37.87],\n",
       "       [108.95,  34.27],\n",
       "       [121.3 ,  25.03],\n",
       "       [116.46,  39.92],\n",
       "       [121.48,  31.22],\n",
       "       [106.54,  29.59],\n",
       "       [117.2 ,  39.13],\n",
       "       [111.65,  40.82],\n",
       "       [108.33,  22.84],\n",
       "       [ 91.11,  29.97],\n",
       "       [106.27,  38.47],\n",
       "       [ 87.68,  43.77],\n",
       "       [114.17,  22.28],\n",
       "       [113.54,  22.19]])"
      ]
     },
     "execution_count": 71,
     "metadata": {},
     "output_type": "execute_result"
    }
   ],
   "source": [
    "Xs"
   ]
  },
  {
   "cell_type": "code",
   "execution_count": 72,
   "metadata": {},
   "outputs": [
    {
     "data": {
      "text/plain": [
       "array([103.73,  98.17, 101.74, 104.06, 114.48, 102.73, 106.71, 114.31,\n",
       "       113.65, 117.  , 118.78, 117.27, 120.19, 115.89, 119.3 , 113.23,\n",
       "       113.  , 110.35, 123.38, 125.35, 126.63, 112.53, 108.95, 121.3 ,\n",
       "       116.46, 121.48, 106.54, 117.2 , 111.65, 108.33,  91.11, 106.27,\n",
       "        87.68, 114.17, 113.54])"
      ]
     },
     "execution_count": 72,
     "metadata": {},
     "output_type": "execute_result"
    }
   ],
   "source": [
    "all_x=Xs[:,0]\n",
    "all_x"
   ]
  },
  {
   "cell_type": "code",
   "execution_count": 90,
   "metadata": {},
   "outputs": [
    {
     "data": {
      "text/plain": [
       "array([36.03, 39.47, 36.56, 30.67, 38.03, 25.04, 26.57, 30.52, 34.76,\n",
       "       36.65, 32.04, 31.86, 30.26, 28.68, 26.08, 23.16, 28.21, 20.02,\n",
       "       41.8 , 43.88, 45.75, 37.87, 34.27, 25.03, 39.92, 31.22, 29.59,\n",
       "       39.13, 40.82, 22.84, 29.97, 38.47, 43.77, 22.28, 22.19])"
      ]
     },
     "execution_count": 90,
     "metadata": {},
     "output_type": "execute_result"
    }
   ],
   "source": [
    "all_y=Xs[:,1]\n",
    "all_y"
   ]
  },
  {
   "cell_type": "code",
   "execution_count": 91,
   "metadata": {},
   "outputs": [],
   "source": [
    "import random\n",
    "def get_random_ceneter(all_x, all_y):\n",
    "    return (random.uniform(min(all_x),max(all_x)),random.uniform(min(all_y),max(all_y)))"
   ]
  },
  {
   "cell_type": "code",
   "execution_count": 92,
   "metadata": {},
   "outputs": [
    {
     "data": {
      "text/plain": [
       "(107.64432452170678, 42.9092934063339)"
      ]
     },
     "execution_count": 92,
     "metadata": {},
     "output_type": "execute_result"
    }
   ],
   "source": [
    "get_random_ceneter(all_x, all_y)"
   ]
  },
  {
   "cell_type": "code",
   "execution_count": 93,
   "metadata": {},
   "outputs": [],
   "source": [
    "k=5\n",
    "centers={i+1:get_random_ceneter(all_x, all_y) for i in range(k)}"
   ]
  },
  {
   "cell_type": "code",
   "execution_count": 94,
   "metadata": {},
   "outputs": [
    {
     "data": {
      "text/plain": [
       "{1: (103.14479337257637, 28.993783012384814),\n",
       " 2: (94.58055477882294, 33.12844375300847),\n",
       " 3: (126.00823199236062, 44.959344953861994),\n",
       " 4: (111.71889053874193, 32.40495061505627),\n",
       " 5: (88.0424775119573, 37.767724809016855)}"
      ]
     },
     "execution_count": 94,
     "metadata": {},
     "output_type": "execute_result"
    }
   ],
   "source": [
    "centers"
   ]
  },
  {
   "cell_type": "code",
   "execution_count": 95,
   "metadata": {},
   "outputs": [
    {
     "data": {
      "text/plain": [
       "[(103.73, 36.03),\n",
       " (98.17, 39.47),\n",
       " (101.74, 36.56),\n",
       " (104.06, 30.67),\n",
       " (114.48, 38.03),\n",
       " (102.73, 25.04),\n",
       " (106.71, 26.57),\n",
       " (114.31, 30.52),\n",
       " (113.65, 34.76),\n",
       " (117.0, 36.65),\n",
       " (118.78, 32.04),\n",
       " (117.27, 31.86),\n",
       " (120.19, 30.26),\n",
       " (115.89, 28.68),\n",
       " (119.3, 26.08),\n",
       " (113.23, 23.16),\n",
       " (113.0, 28.21),\n",
       " (110.35, 20.02),\n",
       " (123.38, 41.8),\n",
       " (125.35, 43.88),\n",
       " (126.63, 45.75),\n",
       " (112.53, 37.87),\n",
       " (108.95, 34.27),\n",
       " (121.3, 25.03),\n",
       " (116.46, 39.92),\n",
       " (121.48, 31.22),\n",
       " (106.54, 29.59),\n",
       " (117.2, 39.13),\n",
       " (111.65, 40.82),\n",
       " (108.33, 22.84),\n",
       " (91.11, 29.97),\n",
       " (106.27, 38.47),\n",
       " (87.68, 43.77),\n",
       " (114.17, 22.28),\n",
       " (113.54, 22.19)]"
      ]
     },
     "execution_count": 95,
     "metadata": {},
     "output_type": "execute_result"
    }
   ],
   "source": [
    "list(zip(all_x,all_y))"
   ]
  },
  {
   "cell_type": "code",
   "execution_count": 96,
   "metadata": {},
   "outputs": [
    {
     "name": "stdout",
     "output_type": "stream",
     "text": [
      "(103.14479337257637, 28.993783012384814)\n",
      "(94.58055477882294, 33.12844375300847)\n",
      "(126.00823199236062, 44.959344953861994)\n",
      "(111.71889053874193, 32.40495061505627)\n",
      "(88.0424775119573, 37.767724809016855)\n"
     ]
    }
   ],
   "source": [
    "for k in centers:\n",
    "    print(centers[k])"
   ]
  },
  {
   "cell_type": "code",
   "execution_count": 97,
   "metadata": {},
   "outputs": [],
   "source": [
    "from collections import defaultdict\n",
    "closet_points=defaultdict(list)\n",
    "\n",
    "# for x, y in zip(all_x, all_y):\n",
    "#     xx=[(k, geo_distance((x, y), centers[k])) for k in centers]\n",
    "#     print(xx)\n",
    "#     closet_c, closet_dis = min(xx, key=lambda t:t[1])\n",
    "#     print(closet_c, closet_dis)\n",
    "#     closet_points[closet_c].append([x, y])\n"
   ]
  },
  {
   "cell_type": "code",
   "execution_count": 98,
   "metadata": {},
   "outputs": [
    {
     "data": {
      "text/plain": [
       "defaultdict(list, {})"
      ]
     },
     "execution_count": 98,
     "metadata": {},
     "output_type": "execute_result"
    }
   ],
   "source": [
    "closet_points"
   ]
  },
  {
   "cell_type": "code",
   "execution_count": 99,
   "metadata": {},
   "outputs": [
    {
     "name": "stdout",
     "output_type": "stream",
     "text": [
      "Updated: 1 center\n",
      "Updated: 2 center\n",
      "Updated: 4 center\n",
      "Updated: 3 center\n",
      "Updated: 5 center\n",
      "Updated: 2 center\n",
      "Updated: 1 center\n",
      "Updated: 4 center\n",
      "Updated: 3 center\n",
      "Updated: 2 center\n",
      "Updated: 4 center\n",
      "Updated: 1 center\n",
      "Updated: 3 center\n",
      "Updated: 3 center\n",
      "Updated: 4 center\n",
      "Updated: 2 center\n",
      "Updated: 3 center\n",
      "Updated: 1 center\n",
      "Updated: 4 center\n"
     ]
    }
   ],
   "source": [
    "changed = True\n",
    "threshold=3\n",
    "while changed:\n",
    "    closet_points = defaultdict(list)\n",
    "\n",
    "    for x, y in zip(all_x, all_y):\n",
    "        closet_c, closet_dis = min([(k, geo_distance((x, y), centers[k])) for k in centers], key=lambda t:t[1])\n",
    "        closet_points[closet_c].append([x, y])\n",
    "\n",
    "    changed = False\n",
    "    \n",
    "    for c in closet_points:\n",
    "        former_center = centers[c] \n",
    "\n",
    "        neigbors_belong_to_c = closet_points[c]\n",
    "\n",
    "        neighbors_center = np.mean(neigbors_belong_to_c, axis=0)\n",
    "\n",
    "        if geo_distance(neighbors_center, former_center) > threshold:\n",
    "            print('Updated: {} center'.format(c))\n",
    "            centers[c] = neighbors_center # 赋值新的中心点\n",
    "            changed = True"
   ]
  },
  {
   "cell_type": "code",
   "execution_count": 100,
   "metadata": {},
   "outputs": [
    {
     "data": {
      "text/plain": [
       "{1: array([109.45   ,  23.96125]),\n",
       " 2: array([102.00428571,  35.06285714]),\n",
       " 3: array([118.29777778,  40.42777778]),\n",
       " 4: array([117.517,  29.866]),\n",
       " 5: array([87.68, 43.77])}"
      ]
     },
     "execution_count": 100,
     "metadata": {},
     "output_type": "execute_result"
    }
   ],
   "source": [
    "centers"
   ]
  },
  {
   "cell_type": "code",
   "execution_count": 101,
   "metadata": {},
   "outputs": [
    {
     "name": "stdout",
     "output_type": "stream",
     "text": [
      "[103.73  98.17 101.74 104.06 114.48 102.73 106.71 114.31 113.65 117.\n",
      " 118.78 117.27 120.19 115.89 119.3  113.23 113.   110.35 123.38 125.35\n",
      " 126.63 112.53 108.95 121.3  116.46 121.48 106.54 117.2  111.65 108.33\n",
      "  91.11 106.27  87.68 114.17 113.54] [36.03 39.47 36.56 30.67 38.03 25.04 26.57 30.52 34.76 36.65 32.04 31.86\n",
      " 30.26 28.68 26.08 23.16 28.21 20.02 41.8  43.88 45.75 37.87 34.27 25.03\n",
      " 39.92 31.22 29.59 39.13 40.82 22.84 29.97 38.47 43.77 22.28 22.19]\n"
     ]
    }
   ],
   "source": [
    "print(*[all_x, all_y])"
   ]
  },
  {
   "cell_type": "code",
   "execution_count": 102,
   "metadata": {},
   "outputs": [
    {
     "ename": "SyntaxError",
     "evalue": "can't use starred expression here (<ipython-input-102-f97af9e33490>, line 1)",
     "output_type": "error",
     "traceback": [
      "\u001b[1;36m  File \u001b[1;32m\"<ipython-input-102-f97af9e33490>\"\u001b[1;36m, line \u001b[1;32m1\u001b[0m\n\u001b[1;33m    yy=*[all_x, all_y]\u001b[0m\n\u001b[1;37m      ^\u001b[0m\n\u001b[1;31mSyntaxError\u001b[0m\u001b[1;31m:\u001b[0m can't use starred expression here\n"
     ]
    }
   ],
   "source": [
    "yy=*[all_x, all_y]"
   ]
  },
  {
   "cell_type": "markdown",
   "metadata": {},
   "source": [
    "###这里 *[all_x, all_y]的用法是啥子？"
   ]
  },
  {
   "cell_type": "code",
   "execution_count": 103,
   "metadata": {},
   "outputs": [
    {
     "data": {
      "text/plain": [
       "<matplotlib.collections.PathCollection at 0x209ff70ca08>"
      ]
     },
     "execution_count": 103,
     "metadata": {},
     "output_type": "execute_result"
    },
    {
     "data": {
      "image/png": "[encoded data removed]",
      "text/plain": [
       "<Figure size 432x288 with 1 Axes>"
      ]
     },
     "metadata": {},
     "output_type": "display_data"
    }
   ],
   "source": [
    "import matplotlib.pyplot as plt\n",
    "plt.scatter(*[all_x, all_y])\n",
    "plt.scatter(*zip(*centers.values()))"
   ]
  },
  {
   "cell_type": "code",
   "execution_count": 105,
   "metadata": {},
   "outputs": [],
   "source": [
    "from sklearn.cluster import KMeans\n",
    "kmeans = KMeans(n_clusters=5, random_state=0).fit(Xs)"
   ]
  },
  {
   "cell_type": "code",
   "execution_count": 107,
   "metadata": {},
   "outputs": [],
   "source": [
    "def draw_cities(cities, color=None):\n",
    "    city_graph = nx.Graph()\n",
    "    city_graph.add_nodes_from(list(cities.keys()))\n",
    "    nx.draw(city_graph, cities, node_color=color, with_labels=True, node_size=50)"
   ]
  },
  {
   "cell_type": "code",
   "execution_count": 109,
   "metadata": {},
   "outputs": [
    {
     "data": {
      "image/png": "[encoded data removed]",
      "text/plain": [
       "<Figure size 864x864 with 1 Axes>"
      ]
     },
     "metadata": {},
     "output_type": "display_data"
    }
   ],
   "source": [
    "plt.figure(1, figsize=(12, 12))\n",
    "# draw_cities({'初始点-{}'.format(int(i)+1): p for i, p in the_first_center.items()}, color='yellow')\n",
    "draw_cities({'sk-求解点-{}'.format(int(i)+1): p for i, p in enumerate(kmeans.cluster_centers_)}, color='cyan')\n",
    "# draw_cities(city_location_with_station, color='green')\n",
    "draw_cities(city_location, color='red')"
   ]
  },
  {
   "cell_type": "code",
   "execution_count": null,
   "metadata": {},
   "outputs": [],
   "source": []
  },
  {
   "cell_type": "code",
   "execution_count": null,
   "metadata": {},
   "outputs": [],
   "source": []
  }
 ],
 "metadata": {
  "kernelspec": {
   "display_name": "Python 3",
   "language": "python",
   "name": "python3"
  },
  "language_info": {
   "codemirror_mode": {
    "name": "ipython",
    "version": 3
   },
   "file_extension": ".py",
   "mimetype": "text/x-python",
   "name": "python",
   "nbconvert_exporter": "python",
   "pygments_lexer": "ipython3",
   "version": "3.7.7"
  }
 },
 "nbformat": 4,
 "nbformat_minor": 2
}
